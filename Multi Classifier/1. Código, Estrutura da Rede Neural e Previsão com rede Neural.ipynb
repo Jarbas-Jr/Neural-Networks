{
 "cells": [
  {
   "cell_type": "code",
   "execution_count": 17,
   "metadata": {},
   "outputs": [],
   "source": [
    "import pandas as pd\n",
    "from sklearn.model_selection import train_test_split\n",
    "from keras.models import Sequential\n",
    "from keras.layers import Dense\n",
    "from keras.utils import np_utils\n",
    "from sklearn.preprocessing import LabelEncoder"
   ]
  },
  {
   "cell_type": "code",
   "execution_count": 5,
   "metadata": {},
   "outputs": [],
   "source": [
    "base = pd.read_csv(\"iris.csv\")"
   ]
  },
  {
   "cell_type": "code",
   "execution_count": 20,
   "metadata": {},
   "outputs": [],
   "source": [
    "labelencoder = LabelEncoder()\n",
    "\n",
    "# RESOLVENDO ṔRIMEIRO PROBLEMA\n",
    "# Transforma de string para valor numerico (0 , 1 , 2)\n",
    "classe = labelencoder.fit_transform(classe) \n",
    "\n",
    "# RESOLVENDO SEGUNDO PROBLEMA \n",
    "#Porém ele transforma em valor unidmensional, e ele precisa ter três, logo necessita mais uma ação\n",
    "# Transforma em variavel dummy conforme abaixo, e em um valor tri diomensional, conforme dummy permite fazer\n",
    "# Transforma categorico com combinações para problemas categoricos com mais de duas labels possiveis\n",
    "classe_dummy  = np_utils.to_categorical(classe) \n",
    "# iris setosa    1 0 0 \n",
    "# iris virginica 0 1 0\n",
    "# iris versicolo 0 0 1"
   ]
  },
  {
   "cell_type": "code",
   "execution_count": 27,
   "metadata": {},
   "outputs": [],
   "source": [
    "previsores_train, previsores_test, classe_train, classe_test = train_test_split(previsores, classe_dummy, test_size=0.25)"
   ]
  },
  {
   "cell_type": "code",
   "execution_count": 28,
   "metadata": {},
   "outputs": [],
   "source": [
    "classificador = Sequential()\n",
    "\n",
    "# Usar aquela formula para definir número de camadas ocultas \n",
    "# (entradas + saida) / 2, nesse caso (4+3)/2 = 3.5, arrendonda 4\n",
    "#Deixa a inicializaão dos pesos padrão.\n",
    "classificador.add(Dense(units =4, activation = 'relu', input_dim = 4)) \n",
    "classificador.add(Dense(units =4, activation = 'relu'))\n",
    "classificador.add(Dense(units=3, activation = 'softmax'))\n",
    "\n",
    "classificador.compile(optimizer = 'adam', loss= 'categorical_crossentropy',\n",
    "                         metrics=['categorical_accuracy'])"
   ]
  },
  {
   "cell_type": "code",
   "execution_count": 29,
   "metadata": {},
   "outputs": [],
   "source": [
    "#Não vai funcionar o código abaixo, e necessario algumas modificações, ele espera um shape(3,) mas tem como retorno (1,) \n",
    "# classificador.fit(previsores_train, classe_train, batch_size = 10,epochs = 100)\n",
    "\n",
    "\n",
    "# DUas coisas que precisamos fazer, os labels estão em string(formato categorico), e necessario trasformção para formato númerico\n",
    "    # Usar LabelEncoder\n",
    "\n",
    "# COmo ele precisa ter trimensões, a configuração correta tem que ficar: \n",
    "    # Usar np_utils\n",
    "        # iris setosa     1 0 0\n",
    "        # iris virginica  0 1 0\n",
    "        # iris versicolor 0 0 1 \n",
    "        \n",
    "#Após esses ajustes pode-se usar o código substituindo o 'classe' por 'classe_dummy' na parte do 'train_test_split'\n",
    "    # classificador.fit(previsores_train, classe_train, batch_size = 10,epochs = 100)"
   ]
  },
  {
   "cell_type": "code",
   "execution_count": 31,
   "metadata": {},
   "outputs": [
    {
     "name": "stdout",
     "output_type": "stream",
     "text": [
      "Epoch 1/100\n",
      "112/112 [==============================] - 0s 753us/step - loss: 0.1942 - categorical_accuracy: 0.9643\n",
      "Epoch 2/100\n",
      "112/112 [==============================] - 0s 507us/step - loss: 0.1967 - categorical_accuracy: 0.9643\n",
      "Epoch 3/100\n",
      "112/112 [==============================] - 0s 467us/step - loss: 0.1932 - categorical_accuracy: 0.9643\n",
      "Epoch 4/100\n",
      "112/112 [==============================] - 0s 277us/step - loss: 0.1889 - categorical_accuracy: 0.9643\n",
      "Epoch 5/100\n",
      "112/112 [==============================] - 0s 240us/step - loss: 0.1882 - categorical_accuracy: 0.9643\n",
      "Epoch 6/100\n",
      "112/112 [==============================] - 0s 194us/step - loss: 0.1845 - categorical_accuracy: 0.9643\n",
      "Epoch 7/100\n",
      "112/112 [==============================] - 0s 219us/step - loss: 0.1835 - categorical_accuracy: 0.9643\n",
      "Epoch 8/100\n",
      "112/112 [==============================] - 0s 219us/step - loss: 0.1808 - categorical_accuracy: 0.9643\n",
      "Epoch 9/100\n",
      "112/112 [==============================] - 0s 119us/step - loss: 0.1797 - categorical_accuracy: 0.9643\n",
      "Epoch 10/100\n",
      "112/112 [==============================] - 0s 190us/step - loss: 0.1756 - categorical_accuracy: 0.9643\n",
      "Epoch 11/100\n",
      "112/112 [==============================] - 0s 142us/step - loss: 0.1780 - categorical_accuracy: 0.9643\n",
      "Epoch 12/100\n",
      "112/112 [==============================] - 0s 104us/step - loss: 0.1756 - categorical_accuracy: 0.9643\n",
      "Epoch 13/100\n",
      "112/112 [==============================] - 0s 142us/step - loss: 0.1699 - categorical_accuracy: 0.9643\n",
      "Epoch 14/100\n",
      "112/112 [==============================] - 0s 151us/step - loss: 0.1682 - categorical_accuracy: 0.9643\n",
      "Epoch 15/100\n",
      "112/112 [==============================] - 0s 169us/step - loss: 0.1662 - categorical_accuracy: 0.9643\n",
      "Epoch 16/100\n",
      "112/112 [==============================] - 0s 198us/step - loss: 0.1693 - categorical_accuracy: 0.9643\n",
      "Epoch 17/100\n",
      "112/112 [==============================] - 0s 84us/step - loss: 0.1615 - categorical_accuracy: 0.9643\n",
      "Epoch 18/100\n",
      "112/112 [==============================] - 0s 174us/step - loss: 0.1615 - categorical_accuracy: 0.9643\n",
      "Epoch 19/100\n",
      "112/112 [==============================] - 0s 213us/step - loss: 0.1590 - categorical_accuracy: 0.9643\n",
      "Epoch 20/100\n",
      "112/112 [==============================] - 0s 268us/step - loss: 0.1572 - categorical_accuracy: 0.9643\n",
      "Epoch 21/100\n",
      "112/112 [==============================] - 0s 223us/step - loss: 0.1560 - categorical_accuracy: 0.9643\n",
      "Epoch 22/100\n",
      "112/112 [==============================] - 0s 207us/step - loss: 0.1557 - categorical_accuracy: 0.9643\n",
      "Epoch 23/100\n",
      "112/112 [==============================] - 0s 292us/step - loss: 0.1513 - categorical_accuracy: 0.9643\n",
      "Epoch 24/100\n",
      "112/112 [==============================] - 0s 212us/step - loss: 0.1523 - categorical_accuracy: 0.9643\n",
      "Epoch 25/100\n",
      "112/112 [==============================] - 0s 277us/step - loss: 0.1489 - categorical_accuracy: 0.9643\n",
      "Epoch 26/100\n",
      "112/112 [==============================] - 0s 216us/step - loss: 0.1479 - categorical_accuracy: 0.9643\n",
      "Epoch 27/100\n",
      "112/112 [==============================] - 0s 173us/step - loss: 0.1449 - categorical_accuracy: 0.9643\n",
      "Epoch 28/100\n",
      "112/112 [==============================] - 0s 209us/step - loss: 0.1444 - categorical_accuracy: 0.9643\n",
      "Epoch 29/100\n",
      "112/112 [==============================] - 0s 210us/step - loss: 0.1415 - categorical_accuracy: 0.9643\n",
      "Epoch 30/100\n",
      "112/112 [==============================] - 0s 238us/step - loss: 0.1405 - categorical_accuracy: 0.9643\n",
      "Epoch 31/100\n",
      "112/112 [==============================] - 0s 156us/step - loss: 0.1396 - categorical_accuracy: 0.9643\n",
      "Epoch 32/100\n",
      "112/112 [==============================] - 0s 284us/step - loss: 0.1411 - categorical_accuracy: 0.9643\n",
      "Epoch 33/100\n",
      "112/112 [==============================] - 0s 178us/step - loss: 0.1356 - categorical_accuracy: 0.9643\n",
      "Epoch 34/100\n",
      "112/112 [==============================] - 0s 212us/step - loss: 0.1449 - categorical_accuracy: 0.9554\n",
      "Epoch 35/100\n",
      "112/112 [==============================] - 0s 161us/step - loss: 0.1370 - categorical_accuracy: 0.9643\n",
      "Epoch 36/100\n",
      "112/112 [==============================] - 0s 218us/step - loss: 0.1375 - categorical_accuracy: 0.9643\n",
      "Epoch 37/100\n",
      "112/112 [==============================] - 0s 174us/step - loss: 0.1332 - categorical_accuracy: 0.9643\n",
      "Epoch 38/100\n",
      "112/112 [==============================] - 0s 193us/step - loss: 0.1329 - categorical_accuracy: 0.9643\n",
      "Epoch 39/100\n",
      "112/112 [==============================] - 0s 239us/step - loss: 0.1315 - categorical_accuracy: 0.9643\n",
      "Epoch 40/100\n",
      "112/112 [==============================] - 0s 324us/step - loss: 0.1314 - categorical_accuracy: 0.9643\n",
      "Epoch 41/100\n",
      "112/112 [==============================] - 0s 260us/step - loss: 0.1283 - categorical_accuracy: 0.9643\n",
      "Epoch 42/100\n",
      "112/112 [==============================] - 0s 262us/step - loss: 0.1277 - categorical_accuracy: 0.9643\n",
      "Epoch 43/100\n",
      "112/112 [==============================] - 0s 180us/step - loss: 0.1246 - categorical_accuracy: 0.9643\n",
      "Epoch 44/100\n",
      "112/112 [==============================] - 0s 230us/step - loss: 0.1247 - categorical_accuracy: 0.9643\n",
      "Epoch 45/100\n",
      "112/112 [==============================] - 0s 197us/step - loss: 0.1257 - categorical_accuracy: 0.9643\n",
      "Epoch 46/100\n",
      "112/112 [==============================] - 0s 221us/step - loss: 0.1227 - categorical_accuracy: 0.9643\n",
      "Epoch 47/100\n",
      "112/112 [==============================] - 0s 202us/step - loss: 0.1239 - categorical_accuracy: 0.9643\n",
      "Epoch 48/100\n",
      "112/112 [==============================] - 0s 226us/step - loss: 0.1208 - categorical_accuracy: 0.9643\n",
      "Epoch 49/100\n",
      "112/112 [==============================] - 0s 167us/step - loss: 0.1218 - categorical_accuracy: 0.9643\n",
      "Epoch 50/100\n",
      "112/112 [==============================] - 0s 238us/step - loss: 0.1202 - categorical_accuracy: 0.9643\n",
      "Epoch 51/100\n",
      "112/112 [==============================] - 0s 182us/step - loss: 0.1195 - categorical_accuracy: 0.9643\n",
      "Epoch 52/100\n",
      "112/112 [==============================] - 0s 265us/step - loss: 0.1174 - categorical_accuracy: 0.9643\n",
      "Epoch 53/100\n",
      "112/112 [==============================] - 0s 241us/step - loss: 0.1166 - categorical_accuracy: 0.9643\n",
      "Epoch 54/100\n",
      "112/112 [==============================] - 0s 183us/step - loss: 0.1169 - categorical_accuracy: 0.9643\n",
      "Epoch 55/100\n",
      "112/112 [==============================] - 0s 121us/step - loss: 0.1155 - categorical_accuracy: 0.9643\n",
      "Epoch 56/100\n",
      "112/112 [==============================] - 0s 254us/step - loss: 0.1178 - categorical_accuracy: 0.9732\n",
      "Epoch 57/100\n",
      "112/112 [==============================] - 0s 228us/step - loss: 0.1225 - categorical_accuracy: 0.9643\n",
      "Epoch 58/100\n",
      "112/112 [==============================] - 0s 200us/step - loss: 0.1106 - categorical_accuracy: 0.9732\n",
      "Epoch 59/100\n",
      "112/112 [==============================] - 0s 225us/step - loss: 0.1193 - categorical_accuracy: 0.9643\n",
      "Epoch 60/100\n",
      "112/112 [==============================] - 0s 215us/step - loss: 0.1107 - categorical_accuracy: 0.9643\n",
      "Epoch 61/100\n",
      "112/112 [==============================] - 0s 220us/step - loss: 0.1098 - categorical_accuracy: 0.9643\n",
      "Epoch 62/100\n",
      "112/112 [==============================] - 0s 208us/step - loss: 0.1106 - categorical_accuracy: 0.9643\n",
      "Epoch 63/100\n",
      "112/112 [==============================] - 0s 171us/step - loss: 0.1086 - categorical_accuracy: 0.9643\n",
      "Epoch 64/100\n",
      "112/112 [==============================] - 0s 229us/step - loss: 0.1086 - categorical_accuracy: 0.9643\n",
      "Epoch 65/100\n",
      "112/112 [==============================] - 0s 193us/step - loss: 0.1080 - categorical_accuracy: 0.9643\n",
      "Epoch 66/100\n",
      "112/112 [==============================] - 0s 200us/step - loss: 0.1071 - categorical_accuracy: 0.9643\n",
      "Epoch 67/100\n",
      "112/112 [==============================] - 0s 191us/step - loss: 0.1063 - categorical_accuracy: 0.9643\n",
      "Epoch 68/100\n",
      "112/112 [==============================] - 0s 235us/step - loss: 0.1063 - categorical_accuracy: 0.9643\n",
      "Epoch 69/100\n",
      "112/112 [==============================] - 0s 208us/step - loss: 0.1062 - categorical_accuracy: 0.9643\n",
      "Epoch 70/100\n",
      "112/112 [==============================] - 0s 212us/step - loss: 0.1045 - categorical_accuracy: 0.9643\n",
      "Epoch 71/100\n"
     ]
    },
    {
     "name": "stdout",
     "output_type": "stream",
     "text": [
      "112/112 [==============================] - 0s 232us/step - loss: 0.1043 - categorical_accuracy: 0.9643\n",
      "Epoch 72/100\n",
      "112/112 [==============================] - 0s 127us/step - loss: 0.1076 - categorical_accuracy: 0.9643\n",
      "Epoch 73/100\n",
      "112/112 [==============================] - 0s 227us/step - loss: 0.1042 - categorical_accuracy: 0.9643\n",
      "Epoch 74/100\n",
      "112/112 [==============================] - 0s 178us/step - loss: 0.1043 - categorical_accuracy: 0.9643\n",
      "Epoch 75/100\n",
      "112/112 [==============================] - 0s 156us/step - loss: 0.1017 - categorical_accuracy: 0.9643\n",
      "Epoch 76/100\n",
      "112/112 [==============================] - 0s 150us/step - loss: 0.1018 - categorical_accuracy: 0.9643\n",
      "Epoch 77/100\n",
      "112/112 [==============================] - 0s 170us/step - loss: 0.1009 - categorical_accuracy: 0.9643\n",
      "Epoch 78/100\n",
      "112/112 [==============================] - 0s 196us/step - loss: 0.1015 - categorical_accuracy: 0.9643\n",
      "Epoch 79/100\n",
      "112/112 [==============================] - 0s 148us/step - loss: 0.1025 - categorical_accuracy: 0.9643\n",
      "Epoch 80/100\n",
      "112/112 [==============================] - 0s 148us/step - loss: 0.1004 - categorical_accuracy: 0.9643\n",
      "Epoch 81/100\n",
      "112/112 [==============================] - 0s 168us/step - loss: 0.1003 - categorical_accuracy: 0.9643\n",
      "Epoch 82/100\n",
      "112/112 [==============================] - 0s 158us/step - loss: 0.0980 - categorical_accuracy: 0.9643\n",
      "Epoch 83/100\n",
      "112/112 [==============================] - 0s 148us/step - loss: 0.0979 - categorical_accuracy: 0.9643\n",
      "Epoch 84/100\n",
      "112/112 [==============================] - 0s 165us/step - loss: 0.0993 - categorical_accuracy: 0.9643\n",
      "Epoch 85/100\n",
      "112/112 [==============================] - 0s 169us/step - loss: 0.1020 - categorical_accuracy: 0.9732\n",
      "Epoch 86/100\n",
      "112/112 [==============================] - 0s 156us/step - loss: 0.0985 - categorical_accuracy: 0.9643\n",
      "Epoch 87/100\n",
      "112/112 [==============================] - 0s 147us/step - loss: 0.0961 - categorical_accuracy: 0.9643\n",
      "Epoch 88/100\n",
      "112/112 [==============================] - 0s 139us/step - loss: 0.0962 - categorical_accuracy: 0.9643\n",
      "Epoch 89/100\n",
      "112/112 [==============================] - 0s 163us/step - loss: 0.0962 - categorical_accuracy: 0.9643\n",
      "Epoch 90/100\n",
      "112/112 [==============================] - 0s 166us/step - loss: 0.0977 - categorical_accuracy: 0.9643\n",
      "Epoch 91/100\n",
      "112/112 [==============================] - 0s 135us/step - loss: 0.0938 - categorical_accuracy: 0.9643\n",
      "Epoch 92/100\n",
      "112/112 [==============================] - 0s 164us/step - loss: 0.0979 - categorical_accuracy: 0.9732\n",
      "Epoch 93/100\n",
      "112/112 [==============================] - 0s 143us/step - loss: 0.0944 - categorical_accuracy: 0.9643\n",
      "Epoch 94/100\n",
      "112/112 [==============================] - 0s 148us/step - loss: 0.0926 - categorical_accuracy: 0.9643\n",
      "Epoch 95/100\n",
      "112/112 [==============================] - 0s 215us/step - loss: 0.0941 - categorical_accuracy: 0.9643\n",
      "Epoch 96/100\n",
      "112/112 [==============================] - 0s 180us/step - loss: 0.0918 - categorical_accuracy: 0.9643\n",
      "Epoch 97/100\n",
      "112/112 [==============================] - 0s 224us/step - loss: 0.0914 - categorical_accuracy: 0.9643\n",
      "Epoch 98/100\n",
      "112/112 [==============================] - 0s 192us/step - loss: 0.0924 - categorical_accuracy: 0.9732\n",
      "Epoch 99/100\n",
      "112/112 [==============================] - 0s 175us/step - loss: 0.0916 - categorical_accuracy: 0.9732\n",
      "Epoch 100/100\n",
      "112/112 [==============================] - 0s 158us/step - loss: 0.0910 - categorical_accuracy: 0.9643\n"
     ]
    },
    {
     "data": {
      "text/plain": [
       "<keras.callbacks.History at 0x7fba022a6b70>"
      ]
     },
     "execution_count": 31,
     "metadata": {},
     "output_type": "execute_result"
    }
   ],
   "source": [
    "classificador.fit(previsores_train, classe_train, batch_size = 10,epochs = 100)\n",
    "\n",
    "# Esse valor de precisão se refere ao teste na própria base de treinamento e fazendo a avaliação nela mesmo\n",
    "# Logo não é um resultado real pra afirmar se o algoritimo está de fato tendo bons resultados\n",
    "# deve-se fazer isso com os dados de teste"
   ]
  },
  {
   "cell_type": "code",
   "execution_count": 33,
   "metadata": {},
   "outputs": [
    {
     "name": "stdout",
     "output_type": "stream",
     "text": [
      "38/38 [==============================] - 0s 193us/step\n"
     ]
    },
    {
     "data": {
      "text/plain": [
       "[0.1243318531074022, 0.9736842105263158]"
      ]
     },
     "execution_count": 33,
     "metadata": {},
     "output_type": "execute_result"
    }
   ],
   "source": [
    "resultado = classificador.evaluate(previsores_test, classe_test)\n",
    "resultado"
   ]
  },
  {
   "cell_type": "code",
   "execution_count": 34,
   "metadata": {},
   "outputs": [
    {
     "data": {
      "text/plain": [
       "array([[1.17921196e-02, 9.23721015e-01, 6.44868240e-02],\n",
       "       [1.64018609e-02, 9.82139885e-01, 1.45828782e-03],\n",
       "       [4.99629939e-04, 4.44937125e-02, 9.55006719e-01],\n",
       "       [2.62606045e-04, 2.92570163e-02, 9.70480382e-01],\n",
       "       [9.96874571e-01, 3.12539656e-03, 4.91404030e-14],\n",
       "       [1.05824573e-02, 9.88622725e-01, 7.94837193e-04],\n",
       "       [6.21576677e-04, 4.92000617e-02, 9.50178385e-01],\n",
       "       [1.34729529e-02, 9.84733641e-01, 1.79343391e-03],\n",
       "       [1.39143942e-02, 8.71439278e-01, 1.14646293e-01],\n",
       "       [9.98352051e-01, 1.64800684e-03, 1.70919210e-15],\n",
       "       [9.95901525e-01, 4.09841863e-03, 2.91167237e-14],\n",
       "       [4.10683075e-04, 3.76944132e-02, 9.61894870e-01],\n",
       "       [4.07551095e-04, 3.75089906e-02, 9.62083519e-01],\n",
       "       [8.82589782e-04, 6.39800653e-02, 9.35137272e-01],\n",
       "       [9.89457071e-01, 1.05429199e-02, 7.54686949e-13],\n",
       "       [9.97106254e-01, 2.89373170e-03, 1.26071596e-14],\n",
       "       [6.31343748e-04, 4.96944040e-02, 9.49674308e-01],\n",
       "       [9.97955322e-01, 2.04465236e-03, 2.82859855e-15],\n",
       "       [5.05307317e-03, 4.07789171e-01, 5.87157667e-01],\n",
       "       [3.27761401e-04, 3.62680368e-02, 9.63404179e-01],\n",
       "       [1.10658479e-03, 8.22224468e-02, 9.16670918e-01],\n",
       "       [1.02904169e-02, 9.84076560e-01, 5.63308317e-03],\n",
       "       [9.94776487e-01, 5.22348657e-03, 1.02810874e-13],\n",
       "       [9.96643662e-01, 3.35630076e-03, 1.91211843e-14],\n",
       "       [9.96150017e-01, 3.84997576e-03, 1.56564706e-14],\n",
       "       [9.96230304e-01, 3.76963383e-03, 4.74018543e-14],\n",
       "       [1.10221040e-02, 9.13595974e-01, 7.53819123e-02],\n",
       "       [1.38811292e-02, 9.83778477e-01, 2.34049559e-03],\n",
       "       [4.34984500e-03, 4.07684088e-01, 5.87966025e-01],\n",
       "       [9.98835981e-01, 1.16402050e-03, 3.83339980e-16],\n",
       "       [9.95923281e-01, 4.07669926e-03, 1.91749760e-14],\n",
       "       [9.98935282e-01, 1.06469786e-03, 4.10890653e-16],\n",
       "       [5.61477151e-04, 4.88318093e-02, 9.50606704e-01],\n",
       "       [4.07652464e-04, 3.75150070e-02, 9.62077320e-01],\n",
       "       [2.18641755e-04, 2.86255926e-02, 9.71155703e-01],\n",
       "       [1.05501376e-02, 8.76558959e-01, 1.12890914e-01],\n",
       "       [7.60879891e-04, 6.80020005e-02, 9.31237102e-01],\n",
       "       [4.70439292e-04, 4.73626293e-02, 9.52166975e-01]], dtype=float32)"
      ]
     },
     "execution_count": 34,
     "metadata": {},
     "output_type": "execute_result"
    }
   ],
   "source": [
    "#retorna uma probabilidade para cada um dos neuronios\n",
    "# acima é a função propria do keras com \"evaluate\", aqui é de certa forma manual\n",
    "# o array de previsões, se o valor da baixo quer dizer que a saida do nueronio é 0\n",
    "# Se o valor da próximo a 1, a saida do neurônio é 1, e a combinação dos três neurônios dará a classificação\n",
    "previsoes = classificador.predict(previsores_test)\n",
    "previsoes"
   ]
  },
  {
   "cell_type": "code",
   "execution_count": 37,
   "metadata": {},
   "outputs": [
    {
     "data": {
      "text/plain": [
       "array([[False,  True, False],\n",
       "       [False,  True, False],\n",
       "       [False, False,  True],\n",
       "       [False, False,  True],\n",
       "       [ True, False, False],\n",
       "       [False,  True, False],\n",
       "       [False, False,  True],\n",
       "       [False,  True, False],\n",
       "       [False,  True, False],\n",
       "       [ True, False, False],\n",
       "       [ True, False, False],\n",
       "       [False, False,  True],\n",
       "       [False, False,  True],\n",
       "       [False, False,  True],\n",
       "       [ True, False, False],\n",
       "       [ True, False, False],\n",
       "       [False, False,  True],\n",
       "       [ True, False, False],\n",
       "       [False, False,  True],\n",
       "       [False, False,  True],\n",
       "       [False, False,  True],\n",
       "       [False,  True, False],\n",
       "       [ True, False, False],\n",
       "       [ True, False, False],\n",
       "       [ True, False, False],\n",
       "       [ True, False, False],\n",
       "       [False,  True, False],\n",
       "       [False,  True, False],\n",
       "       [False, False,  True],\n",
       "       [ True, False, False],\n",
       "       [ True, False, False],\n",
       "       [ True, False, False],\n",
       "       [False, False,  True],\n",
       "       [False, False,  True],\n",
       "       [False, False,  True],\n",
       "       [False,  True, False],\n",
       "       [False, False,  True],\n",
       "       [False, False,  True]])"
      ]
     },
     "execution_count": 37,
     "metadata": {},
     "output_type": "execute_result"
    }
   ],
   "source": [
    "previsoes_bin = (previsoes>0.5)\n",
    "previsoes_bin"
   ]
  },
  {
   "cell_type": "code",
   "execution_count": 39,
   "metadata": {},
   "outputs": [],
   "source": [
    "import numpy as np\n",
    "from sklearn.metrics import confusion_matrix"
   ]
  },
  {
   "cell_type": "code",
   "execution_count": 40,
   "metadata": {},
   "outputs": [],
   "source": [
    "# Para aplicar a matriz de confusão é necessario fazer algumas modificações\n",
    "# Abaixo utilizamos o 'np.argmax()' que retorna o número do indice do array que contém o maior valor\n",
    "# Então em ambos os casos temos arrays de 3 indices dentro de um array\n",
    "# Nesses três indices o maior valor contido é do ultimo dos 3, ele retorna 2 pois o maior valor está na posição 2\n",
    "# Se o maior valor estivesse na primeira posição de um dos arrays, ele retornaria 0 pois o maior valor está na posição zero."
   ]
  },
  {
   "cell_type": "code",
   "execution_count": 41,
   "metadata": {},
   "outputs": [
    {
     "data": {
      "text/plain": [
       "[1,\n",
       " 1,\n",
       " 2,\n",
       " 2,\n",
       " 0,\n",
       " 1,\n",
       " 2,\n",
       " 1,\n",
       " 1,\n",
       " 0,\n",
       " 0,\n",
       " 2,\n",
       " 2,\n",
       " 2,\n",
       " 0,\n",
       " 0,\n",
       " 2,\n",
       " 0,\n",
       " 2,\n",
       " 2,\n",
       " 1,\n",
       " 1,\n",
       " 0,\n",
       " 0,\n",
       " 0,\n",
       " 0,\n",
       " 1,\n",
       " 1,\n",
       " 2,\n",
       " 0,\n",
       " 0,\n",
       " 0,\n",
       " 2,\n",
       " 2,\n",
       " 2,\n",
       " 1,\n",
       " 2,\n",
       " 2]"
      ]
     },
     "execution_count": 41,
     "metadata": {},
     "output_type": "execute_result"
    }
   ],
   "source": [
    "classe_test2 = [np.argmax(t) for t in classe_test]\n",
    "classe_test2"
   ]
  },
  {
   "cell_type": "code",
   "execution_count": 45,
   "metadata": {},
   "outputs": [
    {
     "data": {
      "text/plain": [
       "[1,\n",
       " 1,\n",
       " 2,\n",
       " 2,\n",
       " 0,\n",
       " 1,\n",
       " 2,\n",
       " 1,\n",
       " 1,\n",
       " 0,\n",
       " 0,\n",
       " 2,\n",
       " 2,\n",
       " 2,\n",
       " 0,\n",
       " 0,\n",
       " 2,\n",
       " 0,\n",
       " 2,\n",
       " 2,\n",
       " 2,\n",
       " 1,\n",
       " 0,\n",
       " 0,\n",
       " 0,\n",
       " 0,\n",
       " 1,\n",
       " 1,\n",
       " 2,\n",
       " 0,\n",
       " 0,\n",
       " 0,\n",
       " 2,\n",
       " 2,\n",
       " 2,\n",
       " 1,\n",
       " 2,\n",
       " 2]"
      ]
     },
     "execution_count": 45,
     "metadata": {},
     "output_type": "execute_result"
    }
   ],
   "source": [
    "previsoes_test2 = [np.argmax(t) for t in previsoes_bin]\n",
    "previsoes_test2"
   ]
  },
  {
   "cell_type": "code",
   "execution_count": 46,
   "metadata": {},
   "outputs": [
    {
     "data": {
      "text/plain": [
       "array([[13,  0,  0],\n",
       "       [ 0,  9,  0],\n",
       "       [ 0,  1, 15]])"
      ]
     },
     "execution_count": 46,
     "metadata": {},
     "output_type": "execute_result"
    }
   ],
   "source": [
    "# pega os valores preditos pelo modelo os valores de teste.\n",
    "# Ambos aṕos convertidos em valores unidimensionais com o \"np.argmax()\"\n",
    "\n",
    "matriz = confusion_matrix(previsoes_test2, classe_test2)\n",
    "matriz"
   ]
  },
  {
   "cell_type": "code",
   "execution_count": null,
   "metadata": {},
   "outputs": [],
   "source": []
  }
 ],
 "metadata": {
  "kernelspec": {
   "display_name": "Python 3",
   "language": "python",
   "name": "python3"
  },
  "language_info": {
   "codemirror_mode": {
    "name": "ipython",
    "version": 3
   },
   "file_extension": ".py",
   "mimetype": "text/x-python",
   "name": "python",
   "nbconvert_exporter": "python",
   "pygments_lexer": "ipython3",
   "version": "3.6.8"
  }
 },
 "nbformat": 4,
 "nbformat_minor": 2
}
