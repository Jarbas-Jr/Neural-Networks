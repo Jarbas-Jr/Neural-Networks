{
 "cells": [
  {
   "cell_type": "markdown",
   "metadata": {},
   "source": [
    "## Em maio de 2018 tivemos a greve dos caminhoneiros no Brasil e as ações da Petrobras caíram bastante, de aproximadamente 25,00 para 14,00! Com base nisso, a ideia desta tarefa é verificar o comportamento da rede LSTM com essa grande variação no preço das ações. Siga as seguintes dicas:\n",
    "\n",
    "## Você pode utilizar as ações de janeiro de 2013 até 25/05/2018 como base de dados de treinamento (dias antes da greve)\n",
    "## Como base de treinamento, você pode utilizar os valores de 28/05/2018 até 22/06/2018"
   ]
  },
  {
   "cell_type": "code",
   "execution_count": null,
   "metadata": {},
   "outputs": [],
   "source": []
  },
  {
   "cell_type": "code",
   "execution_count": 1,
   "metadata": {},
   "outputs": [
    {
     "name": "stderr",
     "output_type": "stream",
     "text": [
      "Using TensorFlow backend.\n",
      "/home/jarbasjr/.local/lib/python3.6/site-packages/tensorflow/python/framework/dtypes.py:516: FutureWarning: Passing (type, 1) or '1type' as a synonym of type is deprecated; in a future version of numpy, it will be understood as (type, (1,)) / '(1,)type'.\n",
      "  _np_qint8 = np.dtype([(\"qint8\", np.int8, 1)])\n",
      "/home/jarbasjr/.local/lib/python3.6/site-packages/tensorflow/python/framework/dtypes.py:517: FutureWarning: Passing (type, 1) or '1type' as a synonym of type is deprecated; in a future version of numpy, it will be understood as (type, (1,)) / '(1,)type'.\n",
      "  _np_quint8 = np.dtype([(\"quint8\", np.uint8, 1)])\n",
      "/home/jarbasjr/.local/lib/python3.6/site-packages/tensorflow/python/framework/dtypes.py:518: FutureWarning: Passing (type, 1) or '1type' as a synonym of type is deprecated; in a future version of numpy, it will be understood as (type, (1,)) / '(1,)type'.\n",
      "  _np_qint16 = np.dtype([(\"qint16\", np.int16, 1)])\n",
      "/home/jarbasjr/.local/lib/python3.6/site-packages/tensorflow/python/framework/dtypes.py:519: FutureWarning: Passing (type, 1) or '1type' as a synonym of type is deprecated; in a future version of numpy, it will be understood as (type, (1,)) / '(1,)type'.\n",
      "  _np_quint16 = np.dtype([(\"quint16\", np.uint16, 1)])\n",
      "/home/jarbasjr/.local/lib/python3.6/site-packages/tensorflow/python/framework/dtypes.py:520: FutureWarning: Passing (type, 1) or '1type' as a synonym of type is deprecated; in a future version of numpy, it will be understood as (type, (1,)) / '(1,)type'.\n",
      "  _np_qint32 = np.dtype([(\"qint32\", np.int32, 1)])\n",
      "/home/jarbasjr/.local/lib/python3.6/site-packages/tensorflow/python/framework/dtypes.py:525: FutureWarning: Passing (type, 1) or '1type' as a synonym of type is deprecated; in a future version of numpy, it will be understood as (type, (1,)) / '(1,)type'.\n",
      "  np_resource = np.dtype([(\"resource\", np.ubyte, 1)])\n",
      "/home/jarbasjr/.local/lib/python3.6/site-packages/tensorboard/compat/tensorflow_stub/dtypes.py:541: FutureWarning: Passing (type, 1) or '1type' as a synonym of type is deprecated; in a future version of numpy, it will be understood as (type, (1,)) / '(1,)type'.\n",
      "  _np_qint8 = np.dtype([(\"qint8\", np.int8, 1)])\n",
      "/home/jarbasjr/.local/lib/python3.6/site-packages/tensorboard/compat/tensorflow_stub/dtypes.py:542: FutureWarning: Passing (type, 1) or '1type' as a synonym of type is deprecated; in a future version of numpy, it will be understood as (type, (1,)) / '(1,)type'.\n",
      "  _np_quint8 = np.dtype([(\"quint8\", np.uint8, 1)])\n",
      "/home/jarbasjr/.local/lib/python3.6/site-packages/tensorboard/compat/tensorflow_stub/dtypes.py:543: FutureWarning: Passing (type, 1) or '1type' as a synonym of type is deprecated; in a future version of numpy, it will be understood as (type, (1,)) / '(1,)type'.\n",
      "  _np_qint16 = np.dtype([(\"qint16\", np.int16, 1)])\n",
      "/home/jarbasjr/.local/lib/python3.6/site-packages/tensorboard/compat/tensorflow_stub/dtypes.py:544: FutureWarning: Passing (type, 1) or '1type' as a synonym of type is deprecated; in a future version of numpy, it will be understood as (type, (1,)) / '(1,)type'.\n",
      "  _np_quint16 = np.dtype([(\"quint16\", np.uint16, 1)])\n",
      "/home/jarbasjr/.local/lib/python3.6/site-packages/tensorboard/compat/tensorflow_stub/dtypes.py:545: FutureWarning: Passing (type, 1) or '1type' as a synonym of type is deprecated; in a future version of numpy, it will be understood as (type, (1,)) / '(1,)type'.\n",
      "  _np_qint32 = np.dtype([(\"qint32\", np.int32, 1)])\n",
      "/home/jarbasjr/.local/lib/python3.6/site-packages/tensorboard/compat/tensorflow_stub/dtypes.py:550: FutureWarning: Passing (type, 1) or '1type' as a synonym of type is deprecated; in a future version of numpy, it will be understood as (type, (1,)) / '(1,)type'.\n",
      "  np_resource = np.dtype([(\"resource\", np.ubyte, 1)])\n"
     ]
    }
   ],
   "source": [
    "from keras.models import Sequential\n",
    "from keras.layers import Dense, Dropout, LSTM\n",
    "from sklearn.preprocessing import MinMaxScaler\n",
    "import numpy as np\n",
    "import pandas as pd\n",
    "import matplotlib.pyplot as plt"
   ]
  },
  {
   "cell_type": "code",
   "execution_count": 2,
   "metadata": {},
   "outputs": [
    {
     "data": {
      "text/html": [
       "<div>\n",
       "<style scoped>\n",
       "    .dataframe tbody tr th:only-of-type {\n",
       "        vertical-align: middle;\n",
       "    }\n",
       "\n",
       "    .dataframe tbody tr th {\n",
       "        vertical-align: top;\n",
       "    }\n",
       "\n",
       "    .dataframe thead th {\n",
       "        text-align: right;\n",
       "    }\n",
       "</style>\n",
       "<table border=\"1\" class=\"dataframe\">\n",
       "  <thead>\n",
       "    <tr style=\"text-align: right;\">\n",
       "      <th></th>\n",
       "      <th>Date</th>\n",
       "      <th>Open</th>\n",
       "      <th>High</th>\n",
       "      <th>Low</th>\n",
       "      <th>Close</th>\n",
       "      <th>Adj Close</th>\n",
       "      <th>Volume</th>\n",
       "    </tr>\n",
       "  </thead>\n",
       "  <tbody>\n",
       "    <tr>\n",
       "      <th>0</th>\n",
       "      <td>2013-01-02</td>\n",
       "      <td>19.990000</td>\n",
       "      <td>20.209999</td>\n",
       "      <td>19.690001</td>\n",
       "      <td>19.690001</td>\n",
       "      <td>18.086271</td>\n",
       "      <td>30182600.0</td>\n",
       "    </tr>\n",
       "    <tr>\n",
       "      <th>1</th>\n",
       "      <td>2013-01-03</td>\n",
       "      <td>19.809999</td>\n",
       "      <td>20.400000</td>\n",
       "      <td>19.700001</td>\n",
       "      <td>20.400000</td>\n",
       "      <td>18.738441</td>\n",
       "      <td>30552600.0</td>\n",
       "    </tr>\n",
       "    <tr>\n",
       "      <th>2</th>\n",
       "      <td>2013-01-04</td>\n",
       "      <td>20.330000</td>\n",
       "      <td>20.620001</td>\n",
       "      <td>20.170000</td>\n",
       "      <td>20.430000</td>\n",
       "      <td>18.766001</td>\n",
       "      <td>36141000.0</td>\n",
       "    </tr>\n",
       "    <tr>\n",
       "      <th>3</th>\n",
       "      <td>2013-01-07</td>\n",
       "      <td>20.480000</td>\n",
       "      <td>20.670000</td>\n",
       "      <td>19.950001</td>\n",
       "      <td>20.080000</td>\n",
       "      <td>18.444506</td>\n",
       "      <td>28069600.0</td>\n",
       "    </tr>\n",
       "    <tr>\n",
       "      <th>4</th>\n",
       "      <td>2013-01-08</td>\n",
       "      <td>20.110001</td>\n",
       "      <td>20.230000</td>\n",
       "      <td>19.459999</td>\n",
       "      <td>19.500000</td>\n",
       "      <td>17.911745</td>\n",
       "      <td>29091300.0</td>\n",
       "    </tr>\n",
       "  </tbody>\n",
       "</table>\n",
       "</div>"
      ],
      "text/plain": [
       "         Date       Open       High        Low      Close  Adj Close  \\\n",
       "0  2013-01-02  19.990000  20.209999  19.690001  19.690001  18.086271   \n",
       "1  2013-01-03  19.809999  20.400000  19.700001  20.400000  18.738441   \n",
       "2  2013-01-04  20.330000  20.620001  20.170000  20.430000  18.766001   \n",
       "3  2013-01-07  20.480000  20.670000  19.950001  20.080000  18.444506   \n",
       "4  2013-01-08  20.110001  20.230000  19.459999  19.500000  17.911745   \n",
       "\n",
       "       Volume  \n",
       "0  30182600.0  \n",
       "1  30552600.0  \n",
       "2  36141000.0  \n",
       "3  28069600.0  \n",
       "4  29091300.0  "
      ]
     },
     "execution_count": 2,
     "metadata": {},
     "output_type": "execute_result"
    }
   ],
   "source": [
    "base = pd.read_csv('petr4_treinamento_ex.csv')\n",
    "base = base.dropna()\n",
    "base.head()"
   ]
  },
  {
   "cell_type": "code",
   "execution_count": 3,
   "metadata": {},
   "outputs": [],
   "source": [
    "base_treinamento = base.iloc[:, 1:2].values"
   ]
  },
  {
   "cell_type": "code",
   "execution_count": 4,
   "metadata": {},
   "outputs": [
    {
     "data": {
      "text/plain": [
       "array([19.99])"
      ]
     },
     "execution_count": 4,
     "metadata": {},
     "output_type": "execute_result"
    }
   ],
   "source": [
    "base_treinamento[0]"
   ]
  },
  {
   "cell_type": "code",
   "execution_count": 5,
   "metadata": {},
   "outputs": [],
   "source": [
    "normalizador = MinMaxScaler(feature_range=(0,1))\n",
    "base_treinamento_normalizada = normalizador.fit_transform(base_treinamento)"
   ]
  },
  {
   "cell_type": "code",
   "execution_count": 6,
   "metadata": {},
   "outputs": [
    {
     "data": {
      "text/plain": [
       "(1342, 1)"
      ]
     },
     "execution_count": 6,
     "metadata": {},
     "output_type": "execute_result"
    }
   ],
   "source": [
    "base_treinamento_normalizada.shape"
   ]
  },
  {
   "cell_type": "code",
   "execution_count": 7,
   "metadata": {},
   "outputs": [],
   "source": [
    "previsores = []\n",
    "preco_real = []\n",
    "\n",
    "for i in range(90, 1242):\n",
    "    previsores.append(base_treinamento_normalizada[i-90:i, 0])\n",
    "    preco_real.append(base_treinamento_normalizada[i, 0])\n",
    "\n",
    "\n",
    "# converter para array e necessario para passar os dados como parametros para a rede neural    \n",
    "previsores, preco_real = np.array(previsores), np.array(preco_real)"
   ]
  },
  {
   "cell_type": "code",
   "execution_count": 8,
   "metadata": {},
   "outputs": [
    {
     "data": {
      "text/plain": [
       "(1152, 90)"
      ]
     },
     "execution_count": 8,
     "metadata": {},
     "output_type": "execute_result"
    }
   ],
   "source": [
    "previsores.shape"
   ]
  },
  {
   "cell_type": "code",
   "execution_count": 9,
   "metadata": {},
   "outputs": [
    {
     "data": {
      "text/plain": [
       "(1152,)"
      ]
     },
     "execution_count": 9,
     "metadata": {},
     "output_type": "execute_result"
    }
   ],
   "source": [
    "preco_real.shape"
   ]
  },
  {
   "cell_type": "code",
   "execution_count": 10,
   "metadata": {},
   "outputs": [],
   "source": [
    "previsores = np.reshape(previsores, (previsores.shape[0], previsores.shape[1], 1))"
   ]
  },
  {
   "cell_type": "code",
   "execution_count": 11,
   "metadata": {},
   "outputs": [
    {
     "name": "stderr",
     "output_type": "stream",
     "text": [
      "WARNING: Logging before flag parsing goes to stderr.\n",
      "W0905 14:39:21.067620 140602433836864 deprecation_wrapper.py:119] From /home/jarbasjr/.local/lib/python3.6/site-packages/keras/backend/tensorflow_backend.py:66: The name tf.get_default_graph is deprecated. Please use tf.compat.v1.get_default_graph instead.\n",
      "\n",
      "W0905 14:39:21.096493 140602433836864 deprecation_wrapper.py:119] From /home/jarbasjr/.local/lib/python3.6/site-packages/keras/backend/tensorflow_backend.py:541: The name tf.placeholder is deprecated. Please use tf.compat.v1.placeholder instead.\n",
      "\n",
      "W0905 14:39:21.099447 140602433836864 deprecation_wrapper.py:119] From /home/jarbasjr/.local/lib/python3.6/site-packages/keras/backend/tensorflow_backend.py:4432: The name tf.random_uniform is deprecated. Please use tf.random.uniform instead.\n",
      "\n",
      "W0905 14:39:21.323999 140602433836864 deprecation_wrapper.py:119] From /home/jarbasjr/.local/lib/python3.6/site-packages/keras/backend/tensorflow_backend.py:148: The name tf.placeholder_with_default is deprecated. Please use tf.compat.v1.placeholder_with_default instead.\n",
      "\n",
      "W0905 14:39:21.332338 140602433836864 deprecation.py:506] From /home/jarbasjr/.local/lib/python3.6/site-packages/keras/backend/tensorflow_backend.py:3733: calling dropout (from tensorflow.python.ops.nn_ops) with keep_prob is deprecated and will be removed in a future version.\n",
      "Instructions for updating:\n",
      "Please use `rate` instead of `keep_prob`. Rate should be set to `rate = 1 - keep_prob`.\n"
     ]
    }
   ],
   "source": [
    "regressor = Sequential()\n",
    "\n",
    "regressor.add(LSTM(units = 100, return_sequences = True, input_shape =(previsores.shape[1], 1) ))\n",
    "regressor.add(Dropout(0.3))\n",
    "\n",
    "\n",
    "\n",
    "regressor.add(LSTM(units = 50, return_sequences = True))\n",
    "regressor.add(Dropout(0.3))\n",
    "\n",
    "regressor.add(LSTM(units = 50, return_sequences = True))\n",
    "regressor.add(Dropout(0.3))\n",
    "\n",
    "\n",
    "regressor.add(LSTM(units = 50))\n",
    "regressor.add(Dropout(0.3))\n",
    "\n",
    "\n",
    "regressor.add(Dense(units = 1, activation = 'linear'))"
   ]
  },
  {
   "cell_type": "code",
   "execution_count": 12,
   "metadata": {},
   "outputs": [
    {
     "name": "stderr",
     "output_type": "stream",
     "text": [
      "W0905 14:39:21.996323 140602433836864 deprecation_wrapper.py:119] From /home/jarbasjr/.local/lib/python3.6/site-packages/keras/optimizers.py:793: The name tf.train.Optimizer is deprecated. Please use tf.compat.v1.train.Optimizer instead.\n",
      "\n"
     ]
    }
   ],
   "source": [
    "regressor.compile(optimizer = 'rmsprop', loss = 'mean_squared_error',\n",
    "                         metrics = ['mean_absolute_error'])"
   ]
  },
  {
   "cell_type": "code",
   "execution_count": 13,
   "metadata": {},
   "outputs": [
    {
     "name": "stderr",
     "output_type": "stream",
     "text": [
      "W0905 14:39:22.372936 140602433836864 deprecation.py:323] From /home/jarbasjr/.local/lib/python3.6/site-packages/tensorflow/python/ops/math_grad.py:1250: add_dispatch_support.<locals>.wrapper (from tensorflow.python.ops.array_ops) is deprecated and will be removed in a future version.\n",
      "Instructions for updating:\n",
      "Use tf.where in 2.0, which has the same broadcast rule as np.where\n",
      "W0905 14:39:24.825484 140602433836864 deprecation_wrapper.py:119] From /home/jarbasjr/.local/lib/python3.6/site-packages/keras/backend/tensorflow_backend.py:1033: The name tf.assign_add is deprecated. Please use tf.compat.v1.assign_add instead.\n",
      "\n"
     ]
    },
    {
     "name": "stdout",
     "output_type": "stream",
     "text": [
      "Epoch 1/100\n",
      "1152/1152 [==============================] - 15s 13ms/step - loss: 0.0345 - mean_absolute_error: 0.1273\n",
      "Epoch 2/100\n",
      "1152/1152 [==============================] - 10s 9ms/step - loss: 0.0153 - mean_absolute_error: 0.0977\n",
      "Epoch 3/100\n",
      "1152/1152 [==============================] - 6s 5ms/step - loss: 0.0103 - mean_absolute_error: 0.0790\n",
      "Epoch 4/100\n",
      "1152/1152 [==============================] - 8s 7ms/step - loss: 0.0085 - mean_absolute_error: 0.0704\n",
      "Epoch 5/100\n",
      "1152/1152 [==============================] - 20s 17ms/step - loss: 0.0081 - mean_absolute_error: 0.0705\n",
      "Epoch 6/100\n",
      "1152/1152 [==============================] - 10s 9ms/step - loss: 0.0076 - mean_absolute_error: 0.0665\n",
      "Epoch 7/100\n",
      "1152/1152 [==============================] - 10s 8ms/step - loss: 0.0059 - mean_absolute_error: 0.0595\n",
      "Epoch 8/100\n",
      "1152/1152 [==============================] - 8s 7ms/step - loss: 0.0059 - mean_absolute_error: 0.0596\n",
      "Epoch 9/100\n",
      "1152/1152 [==============================] - 7s 6ms/step - loss: 0.0054 - mean_absolute_error: 0.0561\n",
      "Epoch 10/100\n",
      "1152/1152 [==============================] - 9s 7ms/step - loss: 0.0050 - mean_absolute_error: 0.0544\n",
      "Epoch 11/100\n",
      "1152/1152 [==============================] - 8s 7ms/step - loss: 0.0051 - mean_absolute_error: 0.0542\n",
      "Epoch 12/100\n",
      "1152/1152 [==============================] - 9s 8ms/step - loss: 0.0047 - mean_absolute_error: 0.0525\n",
      "Epoch 13/100\n",
      "1152/1152 [==============================] - 9s 8ms/step - loss: 0.0041 - mean_absolute_error: 0.0486\n",
      "Epoch 14/100\n",
      "1152/1152 [==============================] - 12s 11ms/step - loss: 0.0046 - mean_absolute_error: 0.0505\n",
      "Epoch 15/100\n",
      "1152/1152 [==============================] - 14s 13ms/step - loss: 0.0042 - mean_absolute_error: 0.0483\n",
      "Epoch 16/100\n",
      "1152/1152 [==============================] - 8s 7ms/step - loss: 0.0037 - mean_absolute_error: 0.0469\n",
      "Epoch 17/100\n",
      "1152/1152 [==============================] - 10s 8ms/step - loss: 0.0038 - mean_absolute_error: 0.0478\n",
      "Epoch 18/100\n",
      "1152/1152 [==============================] - 11s 10ms/step - loss: 0.0033 - mean_absolute_error: 0.0426\n",
      "Epoch 19/100\n",
      "1152/1152 [==============================] - 12s 10ms/step - loss: 0.0035 - mean_absolute_error: 0.0452\n",
      "Epoch 20/100\n",
      "1152/1152 [==============================] - 9s 8ms/step - loss: 0.0029 - mean_absolute_error: 0.0421\n",
      "Epoch 21/100\n",
      "1152/1152 [==============================] - 9s 8ms/step - loss: 0.0032 - mean_absolute_error: 0.0427\n",
      "Epoch 22/100\n",
      "1152/1152 [==============================] - 9s 8ms/step - loss: 0.0029 - mean_absolute_error: 0.0414\n",
      "Epoch 23/100\n",
      "1152/1152 [==============================] - 10s 8ms/step - loss: 0.0027 - mean_absolute_error: 0.0409\n",
      "Epoch 24/100\n",
      "1152/1152 [==============================] - 9s 8ms/step - loss: 0.0028 - mean_absolute_error: 0.0407\n",
      "Epoch 25/100\n",
      "1152/1152 [==============================] - 9s 8ms/step - loss: 0.0029 - mean_absolute_error: 0.0412\n",
      "Epoch 26/100\n",
      "1152/1152 [==============================] - 9s 8ms/step - loss: 0.0027 - mean_absolute_error: 0.0394\n",
      "Epoch 27/100\n",
      "1152/1152 [==============================] - 9s 8ms/step - loss: 0.0029 - mean_absolute_error: 0.0416\n",
      "Epoch 28/100\n",
      "1152/1152 [==============================] - 9s 8ms/step - loss: 0.0026 - mean_absolute_error: 0.0392\n",
      "Epoch 29/100\n",
      "1152/1152 [==============================] - 9s 8ms/step - loss: 0.0022 - mean_absolute_error: 0.0370\n",
      "Epoch 30/100\n",
      "1152/1152 [==============================] - 17s 14ms/step - loss: 0.0025 - mean_absolute_error: 0.0376\n",
      "Epoch 31/100\n",
      "1152/1152 [==============================] - 14s 12ms/step - loss: 0.0025 - mean_absolute_error: 0.0388\n",
      "Epoch 32/100\n",
      "1152/1152 [==============================] - 10s 9ms/step - loss: 0.0023 - mean_absolute_error: 0.0362\n",
      "Epoch 33/100\n",
      "1152/1152 [==============================] - 11s 10ms/step - loss: 0.0023 - mean_absolute_error: 0.0367\n",
      "Epoch 34/100\n",
      "1152/1152 [==============================] - 12s 11ms/step - loss: 0.0021 - mean_absolute_error: 0.0346\n",
      "Epoch 35/100\n",
      "1152/1152 [==============================] - 10s 9ms/step - loss: 0.0021 - mean_absolute_error: 0.0350\n",
      "Epoch 36/100\n",
      "1152/1152 [==============================] - 10s 9ms/step - loss: 0.0021 - mean_absolute_error: 0.0347\n",
      "Epoch 37/100\n",
      "1152/1152 [==============================] - 10s 9ms/step - loss: 0.0022 - mean_absolute_error: 0.0358\n",
      "Epoch 38/100\n",
      "1152/1152 [==============================] - 10s 9ms/step - loss: 0.0023 - mean_absolute_error: 0.0359\n",
      "Epoch 39/100\n",
      "1152/1152 [==============================] - 13s 11ms/step - loss: 0.0019 - mean_absolute_error: 0.0330\n",
      "Epoch 40/100\n",
      "1152/1152 [==============================] - 19s 17ms/step - loss: 0.0020 - mean_absolute_error: 0.0344\n",
      "Epoch 41/100\n",
      "1152/1152 [==============================] - 13s 12ms/step - loss: 0.0021 - mean_absolute_error: 0.0346\n",
      "Epoch 42/100\n",
      "1152/1152 [==============================] - 12s 10ms/step - loss: 0.0019 - mean_absolute_error: 0.0334\n",
      "Epoch 43/100\n",
      "1152/1152 [==============================] - 21s 19ms/step - loss: 0.0019 - mean_absolute_error: 0.0328\n",
      "Epoch 44/100\n",
      "1152/1152 [==============================] - 10s 8ms/step - loss: 0.0018 - mean_absolute_error: 0.0322\n",
      "Epoch 45/100\n",
      "1152/1152 [==============================] - 10s 8ms/step - loss: 0.0019 - mean_absolute_error: 0.0334\n",
      "Epoch 46/100\n",
      "1152/1152 [==============================] - 9s 8ms/step - loss: 0.0018 - mean_absolute_error: 0.0319\n",
      "Epoch 47/100\n",
      "1152/1152 [==============================] - 17s 15ms/step - loss: 0.0018 - mean_absolute_error: 0.0324\n",
      "Epoch 48/100\n",
      "1152/1152 [==============================] - 23s 20ms/step - loss: 0.0018 - mean_absolute_error: 0.0325\n",
      "Epoch 49/100\n",
      "1152/1152 [==============================] - 22s 19ms/step - loss: 0.0020 - mean_absolute_error: 0.0324\n",
      "Epoch 50/100\n",
      "1152/1152 [==============================] - 23s 20ms/step - loss: 0.0016 - mean_absolute_error: 0.0301\n",
      "Epoch 51/100\n",
      "1152/1152 [==============================] - 19s 16ms/step - loss: 0.0019 - mean_absolute_error: 0.0332\n",
      "Epoch 52/100\n",
      "1152/1152 [==============================] - 6s 6ms/step - loss: 0.0017 - mean_absolute_error: 0.0320\n",
      "Epoch 53/100\n",
      "1152/1152 [==============================] - 6s 6ms/step - loss: 0.0016 - mean_absolute_error: 0.0302\n",
      "Epoch 54/100\n",
      "1152/1152 [==============================] - 6s 6ms/step - loss: 0.0015 - mean_absolute_error: 0.0291\n",
      "Epoch 55/100\n",
      "1152/1152 [==============================] - 6s 5ms/step - loss: 0.0016 - mean_absolute_error: 0.0303\n",
      "Epoch 56/100\n",
      "1152/1152 [==============================] - 6s 5ms/step - loss: 0.0017 - mean_absolute_error: 0.0315\n",
      "Epoch 57/100\n",
      "1152/1152 [==============================] - 6s 5ms/step - loss: 0.0016 - mean_absolute_error: 0.0304\n",
      "Epoch 58/100\n",
      "1152/1152 [==============================] - 6s 5ms/step - loss: 0.0015 - mean_absolute_error: 0.0283\n",
      "Epoch 59/100\n",
      "1152/1152 [==============================] - 6s 5ms/step - loss: 0.0017 - mean_absolute_error: 0.0308\n",
      "Epoch 60/100\n",
      "1152/1152 [==============================] - 6s 5ms/step - loss: 0.0016 - mean_absolute_error: 0.0300\n",
      "Epoch 61/100\n",
      "1152/1152 [==============================] - 6s 5ms/step - loss: 0.0015 - mean_absolute_error: 0.0296\n",
      "Epoch 62/100\n",
      "1152/1152 [==============================] - 6s 5ms/step - loss: 0.0016 - mean_absolute_error: 0.0302\n",
      "Epoch 63/100\n",
      "1152/1152 [==============================] - 6s 5ms/step - loss: 0.0014 - mean_absolute_error: 0.0278\n",
      "Epoch 64/100\n",
      "1152/1152 [==============================] - 6s 5ms/step - loss: 0.0015 - mean_absolute_error: 0.0296\n",
      "Epoch 65/100\n",
      "1152/1152 [==============================] - 6s 5ms/step - loss: 0.0014 - mean_absolute_error: 0.0288\n",
      "Epoch 66/100\n",
      "1152/1152 [==============================] - 6s 5ms/step - loss: 0.0015 - mean_absolute_error: 0.0289\n",
      "Epoch 67/100\n",
      "1152/1152 [==============================] - 6s 5ms/step - loss: 0.0016 - mean_absolute_error: 0.0302\n",
      "Epoch 68/100\n",
      "1152/1152 [==============================] - 6s 5ms/step - loss: 0.0014 - mean_absolute_error: 0.0284\n",
      "Epoch 69/100\n",
      "1152/1152 [==============================] - 6s 5ms/step - loss: 0.0014 - mean_absolute_error: 0.0279\n",
      "Epoch 70/100\n",
      "1152/1152 [==============================] - 6s 5ms/step - loss: 0.0015 - mean_absolute_error: 0.0299\n",
      "Epoch 71/100\n",
      "1152/1152 [==============================] - 6s 5ms/step - loss: 0.0014 - mean_absolute_error: 0.0280\n",
      "Epoch 72/100\n",
      "1152/1152 [==============================] - 6s 5ms/step - loss: 0.0014 - mean_absolute_error: 0.0281\n",
      "Epoch 73/100\n",
      "1152/1152 [==============================] - 6s 5ms/step - loss: 0.0014 - mean_absolute_error: 0.0276\n",
      "Epoch 74/100\n",
      "1152/1152 [==============================] - 6s 5ms/step - loss: 0.0014 - mean_absolute_error: 0.0284\n",
      "Epoch 75/100\n",
      "1152/1152 [==============================] - 6s 5ms/step - loss: 0.0014 - mean_absolute_error: 0.0281\n",
      "Epoch 76/100\n",
      "1152/1152 [==============================] - 6s 5ms/step - loss: 0.0014 - mean_absolute_error: 0.0278\n",
      "Epoch 77/100\n",
      "1152/1152 [==============================] - 6s 5ms/step - loss: 0.0012 - mean_absolute_error: 0.0262\n",
      "Epoch 78/100\n",
      "1152/1152 [==============================] - 6s 5ms/step - loss: 0.0013 - mean_absolute_error: 0.0276\n",
      "Epoch 79/100\n",
      "1152/1152 [==============================] - 6s 5ms/step - loss: 0.0013 - mean_absolute_error: 0.0272\n",
      "Epoch 80/100\n",
      "1152/1152 [==============================] - 6s 5ms/step - loss: 0.0013 - mean_absolute_error: 0.0272\n",
      "Epoch 81/100\n",
      "1152/1152 [==============================] - 6s 5ms/step - loss: 0.0014 - mean_absolute_error: 0.0281\n",
      "Epoch 82/100\n",
      "1152/1152 [==============================] - 6s 5ms/step - loss: 0.0012 - mean_absolute_error: 0.0254\n",
      "Epoch 83/100\n",
      "1152/1152 [==============================] - 6s 5ms/step - loss: 0.0014 - mean_absolute_error: 0.0279\n",
      "Epoch 84/100\n",
      "1152/1152 [==============================] - 6s 5ms/step - loss: 0.0013 - mean_absolute_error: 0.0264\n",
      "Epoch 85/100\n",
      "1152/1152 [==============================] - 6s 5ms/step - loss: 0.0012 - mean_absolute_error: 0.0264\n",
      "Epoch 86/100\n",
      "1152/1152 [==============================] - 6s 5ms/step - loss: 0.0012 - mean_absolute_error: 0.0259\n",
      "Epoch 87/100\n",
      "1152/1152 [==============================] - 6s 5ms/step - loss: 0.0013 - mean_absolute_error: 0.0269\n",
      "Epoch 88/100\n",
      "1152/1152 [==============================] - 6s 5ms/step - loss: 0.0012 - mean_absolute_error: 0.0262\n",
      "Epoch 89/100\n",
      "1152/1152 [==============================] - 6s 5ms/step - loss: 0.0012 - mean_absolute_error: 0.0261\n",
      "Epoch 90/100\n",
      "1152/1152 [==============================] - 6s 5ms/step - loss: 0.0013 - mean_absolute_error: 0.0270\n",
      "Epoch 91/100\n",
      "1152/1152 [==============================] - 6s 5ms/step - loss: 0.0013 - mean_absolute_error: 0.0269\n",
      "Epoch 92/100\n",
      "1152/1152 [==============================] - 6s 5ms/step - loss: 0.0013 - mean_absolute_error: 0.0272\n",
      "Epoch 93/100\n",
      "1152/1152 [==============================] - 6s 5ms/step - loss: 0.0012 - mean_absolute_error: 0.0260\n",
      "Epoch 94/100\n",
      "1152/1152 [==============================] - 6s 5ms/step - loss: 0.0012 - mean_absolute_error: 0.0262\n",
      "Epoch 95/100\n",
      "1152/1152 [==============================] - 6s 5ms/step - loss: 0.0014 - mean_absolute_error: 0.0275\n",
      "Epoch 96/100\n",
      "1152/1152 [==============================] - 6s 5ms/step - loss: 0.0013 - mean_absolute_error: 0.0262\n",
      "Epoch 97/100\n",
      "1152/1152 [==============================] - 7s 6ms/step - loss: 0.0011 - mean_absolute_error: 0.0249\n",
      "Epoch 98/100\n",
      "1152/1152 [==============================] - 6s 6ms/step - loss: 0.0012 - mean_absolute_error: 0.0257\n",
      "Epoch 99/100\n",
      "1152/1152 [==============================] - 6s 6ms/step - loss: 0.0012 - mean_absolute_error: 0.0267\n",
      "Epoch 100/100\n",
      "1152/1152 [==============================] - 6s 5ms/step - loss: 0.0011 - mean_absolute_error: 0.0247\n"
     ]
    },
    {
     "data": {
      "text/plain": [
       "<keras.callbacks.History at 0x7fe0349e3da0>"
      ]
     },
     "execution_count": 13,
     "metadata": {},
     "output_type": "execute_result"
    }
   ],
   "source": [
    "regressor.fit(previsores, preco_real, epochs =100, batch_size = 32 )"
   ]
  },
  {
   "cell_type": "markdown",
   "metadata": {},
   "source": [
    "# Previsão dos preços das ações"
   ]
  },
  {
   "cell_type": "code",
   "execution_count": 14,
   "metadata": {},
   "outputs": [],
   "source": [
    "base_teste = pd.read_csv('petr4_teste_ex.csv')\n",
    "\n",
    "#extraindo a coluna 'open'\n",
    "preco_real_teste = base_teste.iloc[:, 1:2].values"
   ]
  },
  {
   "cell_type": "markdown",
   "metadata": {},
   "source": [
    "## Não vamos poder submeter os dados pra rede neural da maneira que extraimos na célula acima, pois o modelo foi treinado utilizando 90 preços anteriores. Então vamos precisar dos 90 preços anteriores de cada data que contém na coluna 'Open' dos dados de teste, que é referente ao mês de janeiro.\n",
    "\n",
    "## Vamos precisar fazer codificação  para pegar os 90 preços anteriores de cada uma das ações da coluna em questão."
   ]
  },
  {
   "cell_type": "code",
   "execution_count": 15,
   "metadata": {},
   "outputs": [
    {
     "data": {
      "text/plain": [
       "0     19.990000\n",
       "1     19.809999\n",
       "2     20.330000\n",
       "3     20.480000\n",
       "4     20.110001\n",
       "        ...    \n",
       "14    14.770000\n",
       "15    14.260000\n",
       "16    15.840000\n",
       "17    16.090000\n",
       "18    15.410000\n",
       "Name: Open, Length: 1361, dtype: float64"
      ]
     },
     "execution_count": 15,
     "metadata": {},
     "output_type": "execute_result"
    }
   ],
   "source": [
    "# Soma da coluna 'Open' de toda a base original com a base de teste, tudo na mesma coluna.\n",
    "# Preciso de concatenação para que consiga fazer a extração dos 90 preços anteriores para cada prço dos dados de teste.\n",
    "\n",
    "base_completa = pd.concat((base['Open'], base_teste['Open']), axis = 0)\n",
    "base_completa"
   ]
  },
  {
   "cell_type": "code",
   "execution_count": 16,
   "metadata": {},
   "outputs": [],
   "source": [
    "# A conta seria de 1264 que são todas as linhas da base completa - 22 da base de teste, referentes aos preços\n",
    "# de um mês e - 90, para determinar a partir de qual linha da base_completa deve-se pegar para ter os 90\n",
    "# previsores da base de dados de teste.\n",
    "# 1264 - 22 - 90 = 1152\n",
    "# Ou seja, vou começar a buscar os registros a partir da posição 1152 para ter os 90 preditores de todos\n",
    "# os dados de teste do mês de janeiro\n",
    "\n",
    "entradas = base_completa[len(base_completa) - len(base_teste) - 90:].values"
   ]
  },
  {
   "cell_type": "code",
   "execution_count": 17,
   "metadata": {},
   "outputs": [
    {
     "data": {
      "text/plain": [
       "(109,)"
      ]
     },
     "execution_count": 17,
     "metadata": {},
     "output_type": "execute_result"
    }
   ],
   "source": [
    "# Logo terei 112 registros, pois ele pega da posição 1152 até a posição 1264, que é a ultima posição.\n",
    "\n",
    "entradas.shape"
   ]
  },
  {
   "cell_type": "code",
   "execution_count": 18,
   "metadata": {},
   "outputs": [
    {
     "data": {
      "text/plain": [
       "(109, 1)"
      ]
     },
     "execution_count": 18,
     "metadata": {},
     "output_type": "execute_result"
    }
   ],
   "source": [
    "# Colocamos -1 pois nao irei trabalhar com as linhas \n",
    "# E 1 para termos uma coluna \n",
    "# para ficar no formato numpy\n",
    "\n",
    "# Usar .reshape(-1,1) se os seus dados tem uma única feature/coluna\n",
    "# Ou usar .reshape(1,-1) se os seu dados tiverem uma unica linha/registro/amostra\n",
    "\n",
    "entradas = entradas.reshape(-1, 1)\n",
    "entradas.shape"
   ]
  },
  {
   "cell_type": "code",
   "execution_count": 19,
   "metadata": {},
   "outputs": [],
   "source": [
    "# Colocando os dados na mesma escala\n",
    "# Aqui não chamamos o método '.fit_transform', pq ele vai normalizar as entradas de acordo com o que ja foi\n",
    "# normalizado lá na 'base_treinamento_normalizada'.\n",
    "\n",
    "entradas = normalizador.transform(entradas)"
   ]
  },
  {
   "cell_type": "code",
   "execution_count": 24,
   "metadata": {},
   "outputs": [],
   "source": [
    "# Na variavel 'entradas' pegou-se 112 valores, e no for a cada iteração pega um range de 90 valores e coloca em cada coluna\n",
    "# primeiro de '0 á 89', '1 á 90' e assim por diante. Até valores de '22 á 112'.\n",
    "# Pegando 22 ranges de 90 valores\n",
    "# há 22 linas de 90 valores de ações, onde cada valor é o 'open' de um dia em sequência\n",
    "X_test = []\n",
    "\n",
    "for i in range(90,109):\n",
    "    X_test.append(entradas[i-90:i, 0])\n",
    "    \n",
    "\n",
    "X_test = np.array(X_test)\n",
    "\n"
   ]
  },
  {
   "cell_type": "code",
   "execution_count": 25,
   "metadata": {},
   "outputs": [
    {
     "data": {
      "text/plain": [
       "2"
      ]
     },
     "execution_count": 25,
     "metadata": {},
     "output_type": "execute_result"
    }
   ],
   "source": [
    "len(X_test.shape)"
   ]
  },
  {
   "cell_type": "code",
   "execution_count": 26,
   "metadata": {},
   "outputs": [],
   "source": [
    "# Convertendo para formato do input_shape do RNN\n",
    "\n",
    "# previsores.shape[0] = 22, número de registros\n",
    "# previsores.shape[1] = 90, colunas, preço da ação na unidade de tempo, no caso em 90 unidades de tempo\n",
    "# 1 = apenas referente a coluna 'open', um indicador. Com base nos dados da coluna open no passado quero prever os dados da coluna open no futuro.\n",
    "\n",
    "X_test = np.reshape(X_test, (X_test.shape[0], X_test.shape[1], 1))"
   ]
  },
  {
   "cell_type": "code",
   "execution_count": 27,
   "metadata": {},
   "outputs": [],
   "source": [
    "previsoes = regressor.predict(X_test)\n",
    "\n",
    "# 'Desnormalizando' para visualizar os resultados das previsoes dos preços efetivamente\n",
    "previsoes = normalizador.inverse_transform(previsoes)"
   ]
  },
  {
   "cell_type": "code",
   "execution_count": 28,
   "metadata": {},
   "outputs": [
    {
     "data": {
      "text/plain": [
       "16.801975"
      ]
     },
     "execution_count": 28,
     "metadata": {},
     "output_type": "execute_result"
    }
   ],
   "source": [
    "previsoes.mean()\n"
   ]
  },
  {
   "cell_type": "code",
   "execution_count": 29,
   "metadata": {},
   "outputs": [
    {
     "data": {
      "text/plain": [
       "16.379473684210524"
      ]
     },
     "execution_count": 29,
     "metadata": {},
     "output_type": "execute_result"
    }
   ],
   "source": [
    "preco_real_teste.mean()"
   ]
  },
  {
   "cell_type": "code",
   "execution_count": 30,
   "metadata": {},
   "outputs": [
    {
     "data": {
      "text/plain": [
       "0.6596296363636398"
      ]
     },
     "execution_count": 30,
     "metadata": {},
     "output_type": "execute_result"
    }
   ],
   "source": [
    "Diferença_do_preço_da_ação_na_média = 17.87454563636364 - 17.214916\n",
    "Diferença_do_preço_da_ação_na_média"
   ]
  },
  {
   "cell_type": "markdown",
   "metadata": {},
   "source": [
    " # Gráfico com o Preço das AÇões"
   ]
  },
  {
   "cell_type": "code",
   "execution_count": 31,
   "metadata": {},
   "outputs": [
    {
     "data": {
      "image/png": "[encoded data removed]",
      "text/plain": [
       "<Figure size 432x288 with 1 Axes>"
      ]
     },
     "metadata": {
      "needs_background": "light"
     },
     "output_type": "display_data"
    }
   ],
   "source": [
    "plt.plot(preco_real_teste, color='red', label='Preço_real')\n",
    "plt.plot(previsoes, color = 'blue', label = 'Previsões')\n",
    "plt.title('Previsão preço das ações')\n",
    "plt.xlabel('Tempo')\n",
    "plt.ylabel('Valor Yahoo')\n",
    "plt.legend()\n",
    "plt.show()"
   ]
  },
  {
   "cell_type": "markdown",
   "metadata": {},
   "source": [
    "# Pode usar essa tarefa para fazer uma análise de tendência, caso seja um investidor a longo prazo pode rodar esse código para 10 anos atrás e verificar se é uma ação que tem tendência a subir ou não.\n",
    "\n",
    "# Então através de um gráfico, analisando o passado, pode-se fazer uma previsão de como que o valor da ação irá ficar daqui 2, 3 anos.\n",
    "\n",
    "# Não é somente para prever o preço exato da ação, pode prever também a tendência, usado com analise de tendência."
   ]
  },
  {
   "cell_type": "code",
   "execution_count": null,
   "metadata": {},
   "outputs": [],
   "source": []
  }
 ],
 "metadata": {
  "kernelspec": {
   "display_name": "Python 3",
   "language": "python",
   "name": "python3"
  },
  "language_info": {
   "codemirror_mode": {
    "name": "ipython",
    "version": 3
   },
   "file_extension": ".py",
   "mimetype": "text/x-python",
   "name": "python",
   "nbconvert_exporter": "python",
   "pygments_lexer": "ipython3",
   "version": "3.6.8"
  }
 },
 "nbformat": 4,
 "nbformat_minor": 2
}
