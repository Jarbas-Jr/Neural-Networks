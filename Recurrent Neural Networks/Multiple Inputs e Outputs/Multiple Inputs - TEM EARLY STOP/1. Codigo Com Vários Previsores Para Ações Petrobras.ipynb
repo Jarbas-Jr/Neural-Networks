{
 "cells": [
  {
   "cell_type": "code",
   "execution_count": 1,
   "metadata": {},
   "outputs": [
    {
     "name": "stderr",
     "output_type": "stream",
     "text": [
      "Using TensorFlow backend.\n",
      "/home/jarbasjr/.local/lib/python3.6/site-packages/tensorflow/python/framework/dtypes.py:516: FutureWarning: Passing (type, 1) or '1type' as a synonym of type is deprecated; in a future version of numpy, it will be understood as (type, (1,)) / '(1,)type'.\n",
      "  _np_qint8 = np.dtype([(\"qint8\", np.int8, 1)])\n",
      "/home/jarbasjr/.local/lib/python3.6/site-packages/tensorflow/python/framework/dtypes.py:517: FutureWarning: Passing (type, 1) or '1type' as a synonym of type is deprecated; in a future version of numpy, it will be understood as (type, (1,)) / '(1,)type'.\n",
      "  _np_quint8 = np.dtype([(\"quint8\", np.uint8, 1)])\n",
      "/home/jarbasjr/.local/lib/python3.6/site-packages/tensorflow/python/framework/dtypes.py:518: FutureWarning: Passing (type, 1) or '1type' as a synonym of type is deprecated; in a future version of numpy, it will be understood as (type, (1,)) / '(1,)type'.\n",
      "  _np_qint16 = np.dtype([(\"qint16\", np.int16, 1)])\n",
      "/home/jarbasjr/.local/lib/python3.6/site-packages/tensorflow/python/framework/dtypes.py:519: FutureWarning: Passing (type, 1) or '1type' as a synonym of type is deprecated; in a future version of numpy, it will be understood as (type, (1,)) / '(1,)type'.\n",
      "  _np_quint16 = np.dtype([(\"quint16\", np.uint16, 1)])\n",
      "/home/jarbasjr/.local/lib/python3.6/site-packages/tensorflow/python/framework/dtypes.py:520: FutureWarning: Passing (type, 1) or '1type' as a synonym of type is deprecated; in a future version of numpy, it will be understood as (type, (1,)) / '(1,)type'.\n",
      "  _np_qint32 = np.dtype([(\"qint32\", np.int32, 1)])\n",
      "/home/jarbasjr/.local/lib/python3.6/site-packages/tensorflow/python/framework/dtypes.py:525: FutureWarning: Passing (type, 1) or '1type' as a synonym of type is deprecated; in a future version of numpy, it will be understood as (type, (1,)) / '(1,)type'.\n",
      "  np_resource = np.dtype([(\"resource\", np.ubyte, 1)])\n",
      "/home/jarbasjr/.local/lib/python3.6/site-packages/tensorboard/compat/tensorflow_stub/dtypes.py:541: FutureWarning: Passing (type, 1) or '1type' as a synonym of type is deprecated; in a future version of numpy, it will be understood as (type, (1,)) / '(1,)type'.\n",
      "  _np_qint8 = np.dtype([(\"qint8\", np.int8, 1)])\n",
      "/home/jarbasjr/.local/lib/python3.6/site-packages/tensorboard/compat/tensorflow_stub/dtypes.py:542: FutureWarning: Passing (type, 1) or '1type' as a synonym of type is deprecated; in a future version of numpy, it will be understood as (type, (1,)) / '(1,)type'.\n",
      "  _np_quint8 = np.dtype([(\"quint8\", np.uint8, 1)])\n",
      "/home/jarbasjr/.local/lib/python3.6/site-packages/tensorboard/compat/tensorflow_stub/dtypes.py:543: FutureWarning: Passing (type, 1) or '1type' as a synonym of type is deprecated; in a future version of numpy, it will be understood as (type, (1,)) / '(1,)type'.\n",
      "  _np_qint16 = np.dtype([(\"qint16\", np.int16, 1)])\n",
      "/home/jarbasjr/.local/lib/python3.6/site-packages/tensorboard/compat/tensorflow_stub/dtypes.py:544: FutureWarning: Passing (type, 1) or '1type' as a synonym of type is deprecated; in a future version of numpy, it will be understood as (type, (1,)) / '(1,)type'.\n",
      "  _np_quint16 = np.dtype([(\"quint16\", np.uint16, 1)])\n",
      "/home/jarbasjr/.local/lib/python3.6/site-packages/tensorboard/compat/tensorflow_stub/dtypes.py:545: FutureWarning: Passing (type, 1) or '1type' as a synonym of type is deprecated; in a future version of numpy, it will be understood as (type, (1,)) / '(1,)type'.\n",
      "  _np_qint32 = np.dtype([(\"qint32\", np.int32, 1)])\n",
      "/home/jarbasjr/.local/lib/python3.6/site-packages/tensorboard/compat/tensorflow_stub/dtypes.py:550: FutureWarning: Passing (type, 1) or '1type' as a synonym of type is deprecated; in a future version of numpy, it will be understood as (type, (1,)) / '(1,)type'.\n",
      "  np_resource = np.dtype([(\"resource\", np.ubyte, 1)])\n"
     ]
    }
   ],
   "source": [
    "from keras.models import Sequential\n",
    "from keras.layers import Dense, Dropout, LSTM\n",
    "from sklearn.preprocessing import MinMaxScaler\n",
    "import numpy as np\n",
    "import pandas as pd\n",
    "import matplotlib.pyplot as plt\n",
    "from keras.callbacks import EarlyStopping, ReduceLROnPlateau, ModelCheckpoint"
   ]
  },
  {
   "cell_type": "code",
   "execution_count": 2,
   "metadata": {},
   "outputs": [],
   "source": [
    "base = pd.read_csv(\"petr4-treinamento.csv\")\n",
    "base = base.dropna()"
   ]
  },
  {
   "cell_type": "code",
   "execution_count": 3,
   "metadata": {},
   "outputs": [],
   "source": [
    "base_treinamento = base.iloc[:, 1:7].values"
   ]
  },
  {
   "cell_type": "code",
   "execution_count": 4,
   "metadata": {},
   "outputs": [],
   "source": [
    "normalizador = MinMaxScaler(feature_range=(0,1))\n",
    "base_treinamento_normalizada = normalizador.fit_transform(base_treinamento)"
   ]
  },
  {
   "cell_type": "code",
   "execution_count": 5,
   "metadata": {},
   "outputs": [],
   "source": [
    "previsores = []\n",
    "preco_real = []\n",
    "\n",
    "#Muda ali em 0:6, pq agora são mais previsores\n",
    "for i in range(90, 1242):\n",
    "    previsores.append(base_treinamento_normalizada[i-90:i, 0:6])\n",
    "    preco_real.append(base_treinamento_normalizada[i, 0])\n"
   ]
  },
  {
   "cell_type": "code",
   "execution_count": 6,
   "metadata": {},
   "outputs": [],
   "source": [
    "previsores, preco_real = np.array(previsores), np.array(preco_real)"
   ]
  },
  {
   "cell_type": "code",
   "execution_count": 7,
   "metadata": {},
   "outputs": [
    {
     "data": {
      "text/plain": [
       "(1152, 90, 6)"
      ]
     },
     "execution_count": 7,
     "metadata": {},
     "output_type": "execute_result"
    }
   ],
   "source": [
    "previsores.shape"
   ]
  },
  {
   "cell_type": "code",
   "execution_count": 8,
   "metadata": {},
   "outputs": [
    {
     "data": {
      "text/plain": [
       "(1152,)"
      ]
     },
     "execution_count": 8,
     "metadata": {},
     "output_type": "execute_result"
    }
   ],
   "source": [
    "preco_real.shape"
   ]
  },
  {
   "cell_type": "code",
   "execution_count": 9,
   "metadata": {},
   "outputs": [],
   "source": [
    "# A linha abaixo nós podemos excluir pois ela já está no formato correto conforme o shape acima '(1152,90,6)'\n",
    "\n",
    "# previsores = np.reshape(previsores, (previsores.shape[0], previsores.shape[1], 1))"
   ]
  },
  {
   "cell_type": "code",
   "execution_count": 10,
   "metadata": {},
   "outputs": [],
   "source": [
    "regressor = Sequential()\n",
    "\n",
    "# Agora são 6 atributos previsores, muda para 6 no final da linha\n",
    "regressor.add(LSTM(units = 100, return_sequences = True, input_shape =(previsores.shape[1], 6) ))\n",
    "regressor.add(Dropout(0.3))\n",
    "\n",
    "regressor.add(LSTM(units = 50, return_sequences = True))\n",
    "regressor.add(Dropout(0.3))\n",
    "\n",
    "regressor.add(LSTM(units = 50, return_sequences = True))\n",
    "regressor.add(Dropout(0.3))\n",
    "\n",
    "\n",
    "regressor.add(LSTM(units = 50))\n",
    "regressor.add(Dropout(0.3))\n",
    "\n",
    "# Vamos fazer um teste diferente, ao invés de usar 'linear' vamos usar 'sigmoid', devido a normalização entre 0 e 1\n",
    "regressor.add(Dense(units = 1, activation = 'sigmoid'))"
   ]
  },
  {
   "cell_type": "code",
   "execution_count": 11,
   "metadata": {},
   "outputs": [],
   "source": [
    "# muda o otimizador para o 'adam'.\n",
    "# E nesse trecho vamos criar umas classes diferentes conforme importado acima\n",
    "# from keras.callbacks import EarlyStopping, ReduceLROnPlateau, ModelCheckpoint\n",
    "\n",
    "regressor.compile(optimizer = 'rmsprop', loss = 'mean_squared_error',\n",
    "                         metrics = ['mean_absolute_error'])"
   ]
  },
  {
   "cell_type": "markdown",
   "metadata": {},
   "source": [
    "### Callbacks: É um conjunto de funções que pode ser aplicado em determinados estados do processo de treinamento. Pode ser usado para ter uma visão interna dos estados e estatisticas do modelo durante o treinamento. \n",
    "\n"
   ]
  },
  {
   "cell_type": "markdown",
   "metadata": {},
   "source": [
    "###### EarlyStopping:   Vai parar de fazer o treinamento quando uma quantidade/função monitorada parou de melhor.  Exemplo: suponde que se está usando uma loss function que pode ser o mean_squared_error durante 20, 30 repetições da atualização dos pesos parou de melhorar os resultados. \n",
    "\n",
    "###### ARGUMENTOS:\n",
    "   ###### monitor: quantidade/função a ser monitorada (loss function)\n",
    "   ###### min_delta: Mudança minima que deve ser monitorada para ser considerada melhoria.\n",
    "   ###### patience:  número de épocas que irá seguir sem melhorias no resultado, se ele passar esse número de épocas irá parar o treinamento. Exemplo: Se passar 10 épocas sem melhorar, como é colocado abaixo, ele para o treinamento. É uma especie de tolerância.\n",
    "   ##### Verbose: Só serve para mandar algumas mensagens na tela."
   ]
  },
  {
   "cell_type": "code",
   "execution_count": 12,
   "metadata": {},
   "outputs": [],
   "source": [
    "es = EarlyStopping(monitor = 'loss', min_delta = 1e-10, patience = 10, verbose = 1)"
   ]
  },
  {
   "cell_type": "markdown",
   "metadata": {},
   "source": [
    "###### ReduceLROnPlateau: Reduzir a taxa de aprendizagem(learning rate) quando uma métrica parou de melhorar. \n",
    "\n",
    "###### ARGUMENTOS\n",
    "\n",
    "###### monitor: quantidade/função a ser monitorada (loss function).\n",
    "\n",
    "###### min_delta: Mudança minima que deve ser monitorada para ser considerada melhoria.\n",
    "\n",
    "###### patience: número de épocas que irá seguir sem melhorias no resultado, se ele passar esse número de épocas irá parar o treinamento. Exemplo: Se passar 10 épocas sem melhorar, como é colocado abaixo, ele entra em ação.\n",
    "\n",
    "###### factor: valor que a learning rate seŕa reduzida, ou seja, valor que irá multiplicar a lr pelo factor, ficando a relação \"new_lr  =  lr * factor\".\n"
   ]
  },
  {
   "cell_type": "code",
   "execution_count": 13,
   "metadata": {},
   "outputs": [],
   "source": [
    "rlr = ReduceLROnPlateau(monitor = 'loss', factor = 0.2, epochs = 5, verbose = 1)"
   ]
  },
  {
   "cell_type": "markdown",
   "metadata": {},
   "source": [
    "###### ModelCheckpoint: Vai salvar o modelo depois de cada época. Vamos supor que é colocado para rodar 100 épocas, ele sempre vai salvar o modelo(pesos) e com isso se vai conseguir no final  ter o melhor model caso queira desenvolve uma aplicação comercial. Antes nós havíamos utilizado o Cross Validation mas o Keras tem  alguns recursos interessantes para ele ir gravando os pesos assim que consegue os melhores resultados.\n",
    "\n",
    "##### ARGUMENTOS\n",
    "\n",
    "###### filepath: caminho do arquivo que irá salvar\n",
    "\n",
    "###### monitor: quantidade/função a ser monitorada (loss function).\n",
    "\n",
    "###### save_best_only: salvar sempre o que tiver melhor resultado"
   ]
  },
  {
   "cell_type": "code",
   "execution_count": 14,
   "metadata": {},
   "outputs": [],
   "source": [
    "# h5 é o formato que irá ser armazenado. \n",
    "mcp = ModelCheckpoint(filepath = 'pesos.h5', monitor = 'loss', save_best_only = True, verbose = 1)"
   ]
  },
  {
   "cell_type": "code",
   "execution_count": 15,
   "metadata": {},
   "outputs": [
    {
     "name": "stderr",
     "output_type": "stream",
     "text": [
      "WARNING: Logging before flag parsing goes to stderr.\n",
      "W1105 19:49:39.427062 140031271401280 deprecation_wrapper.py:119] From /home/jarbasjr/.local/lib/python3.6/site-packages/keras/backend/tensorflow_backend.py:422: The name tf.global_variables is deprecated. Please use tf.compat.v1.global_variables instead.\n",
      "\n"
     ]
    },
    {
     "name": "stdout",
     "output_type": "stream",
     "text": [
      "Epoch 1/100\n",
      "1152/1152 [==============================] - 8s 7ms/step - loss: 0.0223 - mean_absolute_error: 0.1146\n",
      "\n",
      "Epoch 00001: loss improved from inf to 0.02225, saving model to pesos.h5\n",
      "Epoch 2/100\n",
      "1152/1152 [==============================] - 7s 6ms/step - loss: 0.0078 - mean_absolute_error: 0.0697\n",
      "\n",
      "Epoch 00002: loss improved from 0.02225 to 0.00777, saving model to pesos.h5\n",
      "Epoch 3/100\n",
      "1152/1152 [==============================] - 7s 6ms/step - loss: 0.0058 - mean_absolute_error: 0.0599\n",
      "\n",
      "Epoch 00003: loss improved from 0.00777 to 0.00582, saving model to pesos.h5\n",
      "Epoch 4/100\n",
      "1152/1152 [==============================] - 6s 6ms/step - loss: 0.0055 - mean_absolute_error: 0.0584\n",
      "\n",
      "Epoch 00004: loss improved from 0.00582 to 0.00549, saving model to pesos.h5\n",
      "Epoch 5/100\n",
      "1152/1152 [==============================] - 7s 6ms/step - loss: 0.0046 - mean_absolute_error: 0.0525\n",
      "\n",
      "Epoch 00005: loss improved from 0.00549 to 0.00457, saving model to pesos.h5\n",
      "Epoch 6/100\n",
      "1152/1152 [==============================] - 7s 6ms/step - loss: 0.0043 - mean_absolute_error: 0.0513\n",
      "\n",
      "Epoch 00006: loss improved from 0.00457 to 0.00430, saving model to pesos.h5\n",
      "Epoch 7/100\n",
      "1152/1152 [==============================] - 7s 6ms/step - loss: 0.0040 - mean_absolute_error: 0.0499\n",
      "\n",
      "Epoch 00007: loss improved from 0.00430 to 0.00396, saving model to pesos.h5\n",
      "Epoch 8/100\n",
      "1152/1152 [==============================] - 7s 6ms/step - loss: 0.0033 - mean_absolute_error: 0.0437\n",
      "\n",
      "Epoch 00008: loss improved from 0.00396 to 0.00327, saving model to pesos.h5\n",
      "Epoch 9/100\n",
      "1152/1152 [==============================] - 7s 6ms/step - loss: 0.0032 - mean_absolute_error: 0.0438\n",
      "\n",
      "Epoch 00009: loss improved from 0.00327 to 0.00323, saving model to pesos.h5\n",
      "Epoch 10/100\n",
      "1152/1152 [==============================] - 7s 6ms/step - loss: 0.0031 - mean_absolute_error: 0.0427\n",
      "\n",
      "Epoch 00010: loss improved from 0.00323 to 0.00306, saving model to pesos.h5\n",
      "Epoch 11/100\n",
      "1152/1152 [==============================] - 7s 6ms/step - loss: 0.0031 - mean_absolute_error: 0.0428\n",
      "\n",
      "Epoch 00011: loss did not improve from 0.00306\n",
      "Epoch 12/100\n",
      "1152/1152 [==============================] - 7s 6ms/step - loss: 0.0027 - mean_absolute_error: 0.0404\n",
      "\n",
      "Epoch 00012: loss improved from 0.00306 to 0.00269, saving model to pesos.h5\n",
      "Epoch 13/100\n",
      "1152/1152 [==============================] - 7s 6ms/step - loss: 0.0028 - mean_absolute_error: 0.0404\n",
      "\n",
      "Epoch 00013: loss did not improve from 0.00269\n",
      "Epoch 14/100\n",
      "1152/1152 [==============================] - 7s 6ms/step - loss: 0.0024 - mean_absolute_error: 0.0382\n",
      "\n",
      "Epoch 00014: loss improved from 0.00269 to 0.00240, saving model to pesos.h5\n",
      "Epoch 15/100\n",
      "1152/1152 [==============================] - 7s 6ms/step - loss: 0.0023 - mean_absolute_error: 0.0359\n",
      "\n",
      "Epoch 00015: loss improved from 0.00240 to 0.00225, saving model to pesos.h5\n",
      "Epoch 16/100\n",
      "1152/1152 [==============================] - 7s 6ms/step - loss: 0.0024 - mean_absolute_error: 0.0376\n",
      "\n",
      "Epoch 00016: loss did not improve from 0.00225\n",
      "Epoch 17/100\n",
      "1152/1152 [==============================] - 7s 6ms/step - loss: 0.0023 - mean_absolute_error: 0.0378\n",
      "\n",
      "Epoch 00017: loss did not improve from 0.00225\n",
      "Epoch 18/100\n",
      "1152/1152 [==============================] - 7s 6ms/step - loss: 0.0021 - mean_absolute_error: 0.0356\n",
      "\n",
      "Epoch 00018: loss improved from 0.00225 to 0.00210, saving model to pesos.h5\n",
      "Epoch 19/100\n",
      "1152/1152 [==============================] - 7s 6ms/step - loss: 0.0019 - mean_absolute_error: 0.0341\n",
      "\n",
      "Epoch 00019: loss improved from 0.00210 to 0.00190, saving model to pesos.h5\n",
      "Epoch 20/100\n",
      "1152/1152 [==============================] - 7s 6ms/step - loss: 0.0021 - mean_absolute_error: 0.0350\n",
      "\n",
      "Epoch 00020: loss did not improve from 0.00190\n",
      "Epoch 21/100\n",
      "1152/1152 [==============================] - 7s 6ms/step - loss: 0.0020 - mean_absolute_error: 0.0341\n",
      "\n",
      "Epoch 00021: loss did not improve from 0.00190\n",
      "Epoch 22/100\n",
      "1152/1152 [==============================] - 7s 6ms/step - loss: 0.0019 - mean_absolute_error: 0.0335\n",
      "\n",
      "Epoch 00022: loss improved from 0.00190 to 0.00188, saving model to pesos.h5\n",
      "Epoch 23/100\n",
      "1152/1152 [==============================] - 8s 7ms/step - loss: 0.0019 - mean_absolute_error: 0.0330\n",
      "\n",
      "Epoch 00023: loss improved from 0.00188 to 0.00185, saving model to pesos.h5\n",
      "Epoch 24/100\n",
      "1152/1152 [==============================] - 9s 8ms/step - loss: 0.0020 - mean_absolute_error: 0.0330\n",
      "\n",
      "Epoch 00024: loss did not improve from 0.00185\n",
      "Epoch 25/100\n",
      "1152/1152 [==============================] - 8s 7ms/step - loss: 0.0016 - mean_absolute_error: 0.0308\n",
      "\n",
      "Epoch 00025: loss improved from 0.00185 to 0.00161, saving model to pesos.h5\n",
      "Epoch 26/100\n",
      "1152/1152 [==============================] - 7s 6ms/step - loss: 0.0017 - mean_absolute_error: 0.0320\n",
      "\n",
      "Epoch 00026: loss did not improve from 0.00161\n",
      "Epoch 27/100\n",
      "1152/1152 [==============================] - 7s 6ms/step - loss: 0.0017 - mean_absolute_error: 0.0311\n",
      "\n",
      "Epoch 00027: loss did not improve from 0.00161\n",
      "Epoch 28/100\n",
      "1152/1152 [==============================] - 7s 6ms/step - loss: 0.0018 - mean_absolute_error: 0.0320\n",
      "\n",
      "Epoch 00028: loss did not improve from 0.00161\n",
      "Epoch 29/100\n",
      "1152/1152 [==============================] - 7s 6ms/step - loss: 0.0015 - mean_absolute_error: 0.0291\n",
      "\n",
      "Epoch 00029: loss improved from 0.00161 to 0.00147, saving model to pesos.h5\n",
      "Epoch 30/100\n",
      "1152/1152 [==============================] - 7s 6ms/step - loss: 0.0017 - mean_absolute_error: 0.0310\n",
      "\n",
      "Epoch 00030: loss did not improve from 0.00147\n",
      "Epoch 31/100\n",
      "1152/1152 [==============================] - 8s 7ms/step - loss: 0.0016 - mean_absolute_error: 0.0303\n",
      "\n",
      "Epoch 00031: loss did not improve from 0.00147\n",
      "Epoch 32/100\n",
      "1152/1152 [==============================] - 8s 7ms/step - loss: 0.0015 - mean_absolute_error: 0.0297\n",
      "\n",
      "Epoch 00032: loss did not improve from 0.00147\n",
      "Epoch 33/100\n",
      "1152/1152 [==============================] - 9s 8ms/step - loss: 0.0014 - mean_absolute_error: 0.0281\n",
      "\n",
      "Epoch 00033: loss improved from 0.00147 to 0.00142, saving model to pesos.h5\n",
      "Epoch 34/100\n",
      "1152/1152 [==============================] - 8s 7ms/step - loss: 0.0014 - mean_absolute_error: 0.0283\n",
      "\n",
      "Epoch 00034: loss did not improve from 0.00142\n",
      "Epoch 35/100\n",
      "1152/1152 [==============================] - 8s 7ms/step - loss: 0.0017 - mean_absolute_error: 0.0312\n",
      "\n",
      "Epoch 00035: loss did not improve from 0.00142\n",
      "Epoch 36/100\n",
      "1152/1152 [==============================] - 8s 7ms/step - loss: 0.0014 - mean_absolute_error: 0.0285\n",
      "\n",
      "Epoch 00036: loss improved from 0.00142 to 0.00139, saving model to pesos.h5\n",
      "Epoch 37/100\n",
      "1152/1152 [==============================] - 7s 6ms/step - loss: 0.0014 - mean_absolute_error: 0.0281\n",
      "\n",
      "Epoch 00037: loss did not improve from 0.00139\n",
      "Epoch 38/100\n",
      "1152/1152 [==============================] - 8s 7ms/step - loss: 0.0014 - mean_absolute_error: 0.0277\n",
      "\n",
      "Epoch 00038: loss improved from 0.00139 to 0.00135, saving model to pesos.h5\n",
      "Epoch 39/100\n",
      "1152/1152 [==============================] - 7s 6ms/step - loss: 0.0013 - mean_absolute_error: 0.0273\n",
      "\n",
      "Epoch 00039: loss improved from 0.00135 to 0.00131, saving model to pesos.h5\n",
      "Epoch 40/100\n",
      "1152/1152 [==============================] - 8s 7ms/step - loss: 0.0013 - mean_absolute_error: 0.0269\n",
      "\n",
      "Epoch 00040: loss improved from 0.00131 to 0.00129, saving model to pesos.h5\n",
      "Epoch 41/100\n",
      "1152/1152 [==============================] - 7s 6ms/step - loss: 0.0013 - mean_absolute_error: 0.0269\n",
      "\n",
      "Epoch 00041: loss did not improve from 0.00129\n",
      "Epoch 42/100\n",
      "1152/1152 [==============================] - 7s 6ms/step - loss: 0.0012 - mean_absolute_error: 0.0268\n",
      "\n",
      "Epoch 00042: loss improved from 0.00129 to 0.00125, saving model to pesos.h5\n",
      "Epoch 43/100\n",
      "1152/1152 [==============================] - 7s 6ms/step - loss: 0.0013 - mean_absolute_error: 0.0272\n",
      "\n",
      "Epoch 00043: loss did not improve from 0.00125\n",
      "Epoch 44/100\n",
      "1152/1152 [==============================] - 7s 6ms/step - loss: 0.0012 - mean_absolute_error: 0.0256\n",
      "\n",
      "Epoch 00044: loss improved from 0.00125 to 0.00116, saving model to pesos.h5\n",
      "Epoch 45/100\n",
      "1152/1152 [==============================] - 7s 6ms/step - loss: 0.0012 - mean_absolute_error: 0.0264\n",
      "\n",
      "Epoch 00045: loss did not improve from 0.00116\n",
      "Epoch 46/100\n"
     ]
    },
    {
     "name": "stdout",
     "output_type": "stream",
     "text": [
      "1152/1152 [==============================] - 7s 6ms/step - loss: 0.0011 - mean_absolute_error: 0.0250\n",
      "\n",
      "Epoch 00046: loss improved from 0.00116 to 0.00111, saving model to pesos.h5\n",
      "Epoch 47/100\n",
      "1152/1152 [==============================] - 7s 6ms/step - loss: 0.0011 - mean_absolute_error: 0.0259\n",
      "\n",
      "Epoch 00047: loss did not improve from 0.00111\n",
      "Epoch 48/100\n",
      "1152/1152 [==============================] - 7s 6ms/step - loss: 0.0011 - mean_absolute_error: 0.0248\n",
      "\n",
      "Epoch 00048: loss did not improve from 0.00111\n",
      "Epoch 49/100\n",
      "1152/1152 [==============================] - 7s 6ms/step - loss: 0.0011 - mean_absolute_error: 0.0255\n",
      "\n",
      "Epoch 00049: loss improved from 0.00111 to 0.00111, saving model to pesos.h5\n",
      "Epoch 50/100\n",
      "1152/1152 [==============================] - 7s 6ms/step - loss: 0.0011 - mean_absolute_error: 0.0257\n",
      "\n",
      "Epoch 00050: loss did not improve from 0.00111\n",
      "Epoch 51/100\n",
      "1152/1152 [==============================] - 7s 6ms/step - loss: 0.0011 - mean_absolute_error: 0.0249\n",
      "\n",
      "Epoch 00051: loss improved from 0.00111 to 0.00108, saving model to pesos.h5\n",
      "Epoch 52/100\n",
      "1152/1152 [==============================] - 7s 6ms/step - loss: 0.0011 - mean_absolute_error: 0.0251\n",
      "\n",
      "Epoch 00052: loss did not improve from 0.00108\n",
      "Epoch 53/100\n",
      "1152/1152 [==============================] - 7s 6ms/step - loss: 0.0010 - mean_absolute_error: 0.0241\n",
      "\n",
      "Epoch 00053: loss improved from 0.00108 to 0.00104, saving model to pesos.h5\n",
      "Epoch 54/100\n",
      "1152/1152 [==============================] - 7s 6ms/step - loss: 0.0011 - mean_absolute_error: 0.0243\n",
      "\n",
      "Epoch 00054: loss did not improve from 0.00104\n",
      "Epoch 55/100\n",
      "1152/1152 [==============================] - 7s 6ms/step - loss: 9.9298e-04 - mean_absolute_error: 0.0238\n",
      "\n",
      "Epoch 00055: loss improved from 0.00104 to 0.00099, saving model to pesos.h5\n",
      "Epoch 56/100\n",
      "1152/1152 [==============================] - 7s 6ms/step - loss: 0.0011 - mean_absolute_error: 0.0248\n",
      "\n",
      "Epoch 00056: loss did not improve from 0.00099\n",
      "Epoch 57/100\n",
      "1152/1152 [==============================] - 7s 6ms/step - loss: 0.0011 - mean_absolute_error: 0.0255\n",
      "\n",
      "Epoch 00057: loss did not improve from 0.00099\n",
      "Epoch 58/100\n",
      "1152/1152 [==============================] - 7s 6ms/step - loss: 0.0011 - mean_absolute_error: 0.0240\n",
      "\n",
      "Epoch 00058: loss did not improve from 0.00099\n",
      "Epoch 59/100\n",
      "1152/1152 [==============================] - 7s 6ms/step - loss: 0.0010 - mean_absolute_error: 0.0240\n",
      "\n",
      "Epoch 00059: loss did not improve from 0.00099\n",
      "Epoch 60/100\n",
      "1152/1152 [==============================] - 7s 6ms/step - loss: 0.0011 - mean_absolute_error: 0.0243\n",
      "\n",
      "Epoch 00060: loss did not improve from 0.00099\n",
      "Epoch 61/100\n",
      "1152/1152 [==============================] - 7s 6ms/step - loss: 9.9695e-04 - mean_absolute_error: 0.0235\n",
      "\n",
      "Epoch 00061: loss did not improve from 0.00099\n",
      "Epoch 62/100\n",
      "1152/1152 [==============================] - 7s 6ms/step - loss: 9.8868e-04 - mean_absolute_error: 0.0236\n",
      "\n",
      "Epoch 00062: loss improved from 0.00099 to 0.00099, saving model to pesos.h5\n",
      "Epoch 63/100\n",
      "1152/1152 [==============================] - 7s 6ms/step - loss: 0.0011 - mean_absolute_error: 0.0241\n",
      "\n",
      "Epoch 00063: loss did not improve from 0.00099\n",
      "Epoch 64/100\n",
      "1152/1152 [==============================] - 7s 6ms/step - loss: 9.1048e-04 - mean_absolute_error: 0.0230\n",
      "\n",
      "Epoch 00064: loss improved from 0.00099 to 0.00091, saving model to pesos.h5\n",
      "Epoch 65/100\n",
      "1152/1152 [==============================] - 7s 6ms/step - loss: 9.8388e-04 - mean_absolute_error: 0.0235\n",
      "\n",
      "Epoch 00065: ReduceLROnPlateau reducing learning rate to 0.00020000000949949026.\n",
      "\n",
      "Epoch 00065: loss did not improve from 0.00091\n",
      "Epoch 66/100\n",
      "1152/1152 [==============================] - 7s 6ms/step - loss: 7.4065e-04 - mean_absolute_error: 0.0197\n",
      "\n",
      "Epoch 00066: loss improved from 0.00091 to 0.00074, saving model to pesos.h5\n",
      "Epoch 67/100\n",
      "1152/1152 [==============================] - 7s 6ms/step - loss: 6.9469e-04 - mean_absolute_error: 0.0191\n",
      "\n",
      "Epoch 00067: loss improved from 0.00074 to 0.00069, saving model to pesos.h5\n",
      "Epoch 68/100\n",
      "1152/1152 [==============================] - 8s 7ms/step - loss: 7.0829e-04 - mean_absolute_error: 0.0195\n",
      "\n",
      "Epoch 00068: loss did not improve from 0.00069\n",
      "Epoch 69/100\n",
      "1152/1152 [==============================] - 7s 6ms/step - loss: 7.6623e-04 - mean_absolute_error: 0.0199\n",
      "\n",
      "Epoch 00069: loss did not improve from 0.00069\n",
      "Epoch 70/100\n",
      "1152/1152 [==============================] - 7s 6ms/step - loss: 6.3625e-04 - mean_absolute_error: 0.0186\n",
      "\n",
      "Epoch 00070: loss improved from 0.00069 to 0.00064, saving model to pesos.h5\n",
      "Epoch 71/100\n",
      "1152/1152 [==============================] - 7s 6ms/step - loss: 6.7493e-04 - mean_absolute_error: 0.0188\n",
      "\n",
      "Epoch 00071: loss did not improve from 0.00064\n",
      "Epoch 72/100\n",
      "1152/1152 [==============================] - 7s 6ms/step - loss: 6.6677e-04 - mean_absolute_error: 0.0192\n",
      "\n",
      "Epoch 00072: loss did not improve from 0.00064\n",
      "Epoch 73/100\n",
      "1152/1152 [==============================] - 7s 6ms/step - loss: 6.7536e-04 - mean_absolute_error: 0.0192\n",
      "\n",
      "Epoch 00073: loss did not improve from 0.00064\n",
      "Epoch 74/100\n",
      "1152/1152 [==============================] - 7s 6ms/step - loss: 6.3845e-04 - mean_absolute_error: 0.0182\n",
      "\n",
      "Epoch 00074: loss did not improve from 0.00064\n",
      "Epoch 75/100\n",
      "1152/1152 [==============================] - 7s 6ms/step - loss: 7.4895e-04 - mean_absolute_error: 0.0197\n",
      "\n",
      "Epoch 00075: loss did not improve from 0.00064\n",
      "Epoch 76/100\n",
      "1152/1152 [==============================] - 7s 6ms/step - loss: 6.7298e-04 - mean_absolute_error: 0.0187\n",
      "\n",
      "Epoch 00076: loss did not improve from 0.00064\n",
      "Epoch 77/100\n",
      "1152/1152 [==============================] - 7s 6ms/step - loss: 7.0496e-04 - mean_absolute_error: 0.0189\n",
      "\n",
      "Epoch 00077: loss did not improve from 0.00064\n",
      "Epoch 78/100\n",
      "1152/1152 [==============================] - 7s 6ms/step - loss: 6.6650e-04 - mean_absolute_error: 0.0184\n",
      "\n",
      "Epoch 00078: loss did not improve from 0.00064\n",
      "Epoch 79/100\n",
      "1152/1152 [==============================] - 7s 6ms/step - loss: 6.1765e-04 - mean_absolute_error: 0.0182\n",
      "\n",
      "Epoch 00079: loss improved from 0.00064 to 0.00062, saving model to pesos.h5\n",
      "Epoch 80/100\n",
      "1152/1152 [==============================] - 7s 6ms/step - loss: 6.6587e-04 - mean_absolute_error: 0.0185\n",
      "\n",
      "Epoch 00080: ReduceLROnPlateau reducing learning rate to 4.0000001899898055e-05.\n",
      "\n",
      "Epoch 00080: loss did not improve from 0.00062\n",
      "Epoch 81/100\n",
      "1152/1152 [==============================] - 7s 6ms/step - loss: 6.9957e-04 - mean_absolute_error: 0.0190\n",
      "\n",
      "Epoch 00081: loss did not improve from 0.00062\n",
      "Epoch 82/100\n",
      "1152/1152 [==============================] - 7s 6ms/step - loss: 6.6928e-04 - mean_absolute_error: 0.0186\n",
      "\n",
      "Epoch 00082: loss did not improve from 0.00062\n",
      "Epoch 83/100\n",
      "1152/1152 [==============================] - 7s 6ms/step - loss: 6.4069e-04 - mean_absolute_error: 0.0180\n",
      "\n",
      "Epoch 00083: loss did not improve from 0.00062\n",
      "Epoch 84/100\n",
      "1152/1152 [==============================] - 7s 6ms/step - loss: 6.8684e-04 - mean_absolute_error: 0.0187\n",
      "\n",
      "Epoch 00084: loss did not improve from 0.00062\n",
      "Epoch 85/100\n",
      "1152/1152 [==============================] - 7s 6ms/step - loss: 6.6208e-04 - mean_absolute_error: 0.0184\n",
      "\n",
      "Epoch 00085: loss did not improve from 0.00062\n",
      "Epoch 86/100\n",
      "1152/1152 [==============================] - 7s 6ms/step - loss: 6.0029e-04 - mean_absolute_error: 0.0176\n",
      "\n",
      "Epoch 00086: loss improved from 0.00062 to 0.00060, saving model to pesos.h5\n",
      "Epoch 87/100\n",
      "1152/1152 [==============================] - 7s 6ms/step - loss: 6.2616e-04 - mean_absolute_error: 0.0178\n",
      "\n",
      "Epoch 00087: loss did not improve from 0.00060\n",
      "Epoch 88/100\n",
      "1152/1152 [==============================] - 7s 6ms/step - loss: 5.7291e-04 - mean_absolute_error: 0.0175\n",
      "\n",
      "Epoch 00088: loss improved from 0.00060 to 0.00057, saving model to pesos.h5\n",
      "Epoch 89/100\n",
      "1152/1152 [==============================] - 7s 6ms/step - loss: 6.2470e-04 - mean_absolute_error: 0.0184\n",
      "\n",
      "Epoch 00089: loss did not improve from 0.00057\n",
      "Epoch 90/100\n",
      "1152/1152 [==============================] - 6s 6ms/step - loss: 6.6241e-04 - mean_absolute_error: 0.0186\n",
      "\n",
      "Epoch 00090: ReduceLROnPlateau reducing learning rate to 8.000000525498762e-06.\n",
      "\n",
      "Epoch 00090: loss did not improve from 0.00057\n",
      "Epoch 91/100\n",
      "1152/1152 [==============================] - 7s 6ms/step - loss: 6.0034e-04 - mean_absolute_error: 0.0178\n"
     ]
    },
    {
     "name": "stdout",
     "output_type": "stream",
     "text": [
      "\n",
      "Epoch 00091: loss did not improve from 0.00057\n",
      "Epoch 92/100\n",
      "1152/1152 [==============================] - 6s 5ms/step - loss: 6.2267e-04 - mean_absolute_error: 0.0181\n",
      "\n",
      "Epoch 00092: loss did not improve from 0.00057\n",
      "Epoch 93/100\n",
      "1152/1152 [==============================] - 6s 6ms/step - loss: 6.0757e-04 - mean_absolute_error: 0.0176\n",
      "\n",
      "Epoch 00093: loss did not improve from 0.00057\n",
      "Epoch 94/100\n",
      "1152/1152 [==============================] - 6s 6ms/step - loss: 6.5504e-04 - mean_absolute_error: 0.0180\n",
      "\n",
      "Epoch 00094: loss did not improve from 0.00057\n",
      "Epoch 95/100\n",
      "1152/1152 [==============================] - 7s 6ms/step - loss: 6.3708e-04 - mean_absolute_error: 0.0179\n",
      "\n",
      "Epoch 00095: loss did not improve from 0.00057\n",
      "Epoch 96/100\n",
      "1152/1152 [==============================] - 7s 6ms/step - loss: 6.3847e-04 - mean_absolute_error: 0.0182\n",
      "\n",
      "Epoch 00096: loss did not improve from 0.00057\n",
      "Epoch 97/100\n",
      "1152/1152 [==============================] - 7s 6ms/step - loss: 5.8945e-04 - mean_absolute_error: 0.0177\n",
      "\n",
      "Epoch 00097: loss did not improve from 0.00057\n",
      "Epoch 98/100\n",
      "1152/1152 [==============================] - 7s 6ms/step - loss: 6.1028e-04 - mean_absolute_error: 0.0178\n",
      "\n",
      "Epoch 00098: loss did not improve from 0.00057\n",
      "Epoch 00098: early stopping\n"
     ]
    },
    {
     "data": {
      "text/plain": [
       "<keras.callbacks.callbacks.History at 0x7f5b2fe707b8>"
      ]
     },
     "execution_count": 15,
     "metadata": {},
     "output_type": "execute_result"
    }
   ],
   "source": [
    "regressor.fit(previsores, preco_real, epochs = 100, batch_size = 32,\n",
    "                 callbacks = [es,rlr,mcp])"
   ]
  },
  {
   "cell_type": "markdown",
   "metadata": {},
   "source": [
    "# Carregamento da base de TESTE."
   ]
  },
  {
   "cell_type": "code",
   "execution_count": 16,
   "metadata": {},
   "outputs": [],
   "source": [
    "base_teste = pd.read_csv('petr4-teste.csv')"
   ]
  },
  {
   "cell_type": "code",
   "execution_count": 17,
   "metadata": {},
   "outputs": [
    {
     "name": "stdout",
     "output_type": "stream",
     "text": [
      "<class 'pandas.core.frame.DataFrame'>\n",
      "RangeIndex: 22 entries, 0 to 21\n",
      "Data columns (total 7 columns):\n",
      "Date         22 non-null object\n",
      "Open         22 non-null float64\n",
      "High         22 non-null float64\n",
      "Low          22 non-null float64\n",
      "Close        22 non-null float64\n",
      "Adj Close    22 non-null float64\n",
      "Volume       22 non-null int64\n",
      "dtypes: float64(5), int64(1), object(1)\n",
      "memory usage: 1.3+ KB\n"
     ]
    }
   ],
   "source": [
    "base_teste.info()"
   ]
  },
  {
   "cell_type": "code",
   "execution_count": 18,
   "metadata": {},
   "outputs": [],
   "source": [
    "# Para o teste somente a variavel 'Open'\n",
    "preco_real_teste = base_teste.iloc[:, 1:2].values"
   ]
  },
  {
   "cell_type": "code",
   "execution_count": 19,
   "metadata": {},
   "outputs": [
    {
     "data": {
      "text/html": [
       "<div>\n",
       "<style scoped>\n",
       "    .dataframe tbody tr th:only-of-type {\n",
       "        vertical-align: middle;\n",
       "    }\n",
       "\n",
       "    .dataframe tbody tr th {\n",
       "        vertical-align: top;\n",
       "    }\n",
       "\n",
       "    .dataframe thead th {\n",
       "        text-align: right;\n",
       "    }\n",
       "</style>\n",
       "<table border=\"1\" class=\"dataframe\">\n",
       "  <thead>\n",
       "    <tr style=\"text-align: right;\">\n",
       "      <th></th>\n",
       "      <th>Open</th>\n",
       "      <th>High</th>\n",
       "      <th>Low</th>\n",
       "      <th>Close</th>\n",
       "      <th>Adj Close</th>\n",
       "      <th>Volume</th>\n",
       "    </tr>\n",
       "  </thead>\n",
       "  <tbody>\n",
       "    <tr>\n",
       "      <td>0</td>\n",
       "      <td>19.990000</td>\n",
       "      <td>20.209999</td>\n",
       "      <td>19.690001</td>\n",
       "      <td>19.690001</td>\n",
       "      <td>18.086271</td>\n",
       "      <td>30182600.0</td>\n",
       "    </tr>\n",
       "    <tr>\n",
       "      <td>1</td>\n",
       "      <td>19.809999</td>\n",
       "      <td>20.400000</td>\n",
       "      <td>19.700001</td>\n",
       "      <td>20.400000</td>\n",
       "      <td>18.738441</td>\n",
       "      <td>30552600.0</td>\n",
       "    </tr>\n",
       "    <tr>\n",
       "      <td>2</td>\n",
       "      <td>20.330000</td>\n",
       "      <td>20.620001</td>\n",
       "      <td>20.170000</td>\n",
       "      <td>20.430000</td>\n",
       "      <td>18.766001</td>\n",
       "      <td>36141000.0</td>\n",
       "    </tr>\n",
       "    <tr>\n",
       "      <td>3</td>\n",
       "      <td>20.480000</td>\n",
       "      <td>20.670000</td>\n",
       "      <td>19.950001</td>\n",
       "      <td>20.080000</td>\n",
       "      <td>18.444506</td>\n",
       "      <td>28069600.0</td>\n",
       "    </tr>\n",
       "    <tr>\n",
       "      <td>4</td>\n",
       "      <td>20.110001</td>\n",
       "      <td>20.230000</td>\n",
       "      <td>19.459999</td>\n",
       "      <td>19.500000</td>\n",
       "      <td>17.911745</td>\n",
       "      <td>29091300.0</td>\n",
       "    </tr>\n",
       "  </tbody>\n",
       "</table>\n",
       "</div>"
      ],
      "text/plain": [
       "        Open       High        Low      Close  Adj Close      Volume\n",
       "0  19.990000  20.209999  19.690001  19.690001  18.086271  30182600.0\n",
       "1  19.809999  20.400000  19.700001  20.400000  18.738441  30552600.0\n",
       "2  20.330000  20.620001  20.170000  20.430000  18.766001  36141000.0\n",
       "3  20.480000  20.670000  19.950001  20.080000  18.444506  28069600.0\n",
       "4  20.110001  20.230000  19.459999  19.500000  17.911745  29091300.0"
      ]
     },
     "execution_count": 19,
     "metadata": {},
     "output_type": "execute_result"
    }
   ],
   "source": [
    "# Como agora nos temos mais atributos previsores, teremos que fazer um outro código equivalente\n",
    "# E podemos excluir o código abaixo.\n",
    "\n",
    "#base_completa = pd.concat((base['Open'], base_teste['Open']), axis = 0)\n",
    "\n",
    "\n",
    "frames = [base, base_teste]\n",
    "base_completa = pd.concat(frames)\n",
    "\n",
    "# Date não é utilizado, devemos deletar essa coluna\n",
    "base_completa = base_completa.drop('Date', axis = 1)\n",
    "\n",
    "base_completa.head()"
   ]
  },
  {
   "cell_type": "code",
   "execution_count": 20,
   "metadata": {},
   "outputs": [],
   "source": [
    "# Reshape(-1,1) só é necessario quando há uma unica coluna.\n",
    "\n",
    "entradas = base_completa[len(base_completa) - len(base_teste) - 90:].values\n",
    "entradas = normalizador.transform(entradas)"
   ]
  },
  {
   "attachments": {
    "Screenshot%20from%202019-09-06%2012.40.39.png": {
     "image/png": "[encoded data removed]"
    }
   },
   "cell_type": "markdown",
   "metadata": {},
   "source": [
    "![Screenshot%20from%202019-09-06%2012.40.39.png](attachment:Screenshot%20from%202019-09-06%2012.40.39.png)"
   ]
  },
  {
   "cell_type": "code",
   "execution_count": 21,
   "metadata": {},
   "outputs": [],
   "source": [
    "X_test = []\n",
    "# Colocar 0:6, agora com mais atributos previsores\n",
    "for i in range(90,112):\n",
    "    X_test.append(entradas[i-90:i, 0:6])\n",
    "    \n",
    "\n",
    "X_test = np.array(X_test)"
   ]
  },
  {
   "cell_type": "code",
   "execution_count": 22,
   "metadata": {},
   "outputs": [],
   "source": [
    "# Não vamos precisar executar o código abaixo\n",
    "# X_test = np.reshape(X_test, (X_test.shape[0], X_test.shape[1], 1))"
   ]
  },
  {
   "cell_type": "code",
   "execution_count": 23,
   "metadata": {},
   "outputs": [],
   "source": [
    "previsoes = regressor.predict(X_test)"
   ]
  },
  {
   "cell_type": "markdown",
   "metadata": {},
   "source": [
    "###### Executando \"\"\" previsoes = normalizador.inverse_transform(previsoes) \"\"\"\" dará um erro pois a base_treinamento_normalizada está em um dimensão diferente, pois pegamos 6 atributos para previsão, quando nos exemplos anteriores era apenas um atributo, o que resultaria na mesma dimensão da saída que agora não seria o caso. \n",
    "\n",
    "###### Logo, precisamos criar outra variavél, como abaixo, para deixarmos os dados a serem preditos da base de treinamento na mesma dimensão das previsões:\n",
    "\n",
    "##### normalizador_previsao = MinMaxScaler(feature_range(0,1)) \n",
    "##### normalizador.previsao.fit_transform(base_treinamento[:,0:1])"
   ]
  },
  {
   "cell_type": "code",
   "execution_count": 30,
   "metadata": {},
   "outputs": [
    {
     "data": {
      "text/plain": [
       "array([[19.99    ],\n",
       "       [19.809999],\n",
       "       [20.33    ],\n",
       "       ...,\n",
       "       [15.99    ],\n",
       "       [16.1     ],\n",
       "       [16.1     ]])"
      ]
     },
     "execution_count": 30,
     "metadata": {},
     "output_type": "execute_result"
    }
   ],
   "source": [
    "base_treinamento[:,0:1]"
   ]
  },
  {
   "cell_type": "code",
   "execution_count": 24,
   "metadata": {},
   "outputs": [
    {
     "data": {
      "text/plain": [
       "array([[0.76501938],\n",
       "       [0.7562984 ],\n",
       "       [0.78149225],\n",
       "       ...,\n",
       "       [0.57122093],\n",
       "       [0.57655039],\n",
       "       [0.57655039]])"
      ]
     },
     "execution_count": 24,
     "metadata": {},
     "output_type": "execute_result"
    }
   ],
   "source": [
    "normalizador_previsao = MinMaxScaler(feature_range=(0,1)) \n",
    "normalizador_previsao.fit_transform(base_treinamento[:,0:1])"
   ]
  },
  {
   "cell_type": "code",
   "execution_count": 25,
   "metadata": {},
   "outputs": [],
   "source": [
    "# Pode-se comparar cada previsao com o respectivo preço real\n",
    "previsoes = normalizador_previsao.inverse_transform(previsoes)"
   ]
  },
  {
   "cell_type": "code",
   "execution_count": 26,
   "metadata": {},
   "outputs": [
    {
     "data": {
      "text/plain": [
       "17.874622"
      ]
     },
     "execution_count": 26,
     "metadata": {},
     "output_type": "execute_result"
    }
   ],
   "source": [
    "previsoes.mean()"
   ]
  },
  {
   "cell_type": "code",
   "execution_count": 27,
   "metadata": {},
   "outputs": [
    {
     "data": {
      "text/plain": [
       "17.87454563636364"
      ]
     },
     "execution_count": 27,
     "metadata": {},
     "output_type": "execute_result"
    }
   ],
   "source": [
    "preco_real_teste.mean()"
   ]
  },
  {
   "cell_type": "code",
   "execution_count": 28,
   "metadata": {},
   "outputs": [
    {
     "data": {
      "text/plain": [
       "0.0020183636363597657"
      ]
     },
     "execution_count": 28,
     "metadata": {},
     "output_type": "execute_result"
    }
   ],
   "source": [
    "diferença_media = 17.876564 - 17.87454563636364\n",
    "diferença_media"
   ]
  },
  {
   "cell_type": "markdown",
   "metadata": {},
   "source": [
    "# GRÁFICO DAS AÇÕES"
   ]
  },
  {
   "cell_type": "code",
   "execution_count": 29,
   "metadata": {},
   "outputs": [
    {
     "data": {
      "image/png": "[encoded data removed]",
      "text/plain": [
       "<Figure size 432x288 with 1 Axes>"
      ]
     },
     "metadata": {
      "needs_background": "light"
     },
     "output_type": "display_data"
    }
   ],
   "source": [
    "plt.plot(preco_real_teste, color='red', label='Preço_real')\n",
    "plt.plot(previsoes, color = 'blue', label = 'Previsões')\n",
    "plt.title('Previsão preço das ações')\n",
    "plt.xlabel('Tempo')\n",
    "plt.ylabel('Valor Yahoo')\n",
    "plt.legend()\n",
    "plt.show()"
   ]
  },
  {
   "cell_type": "code",
   "execution_count": null,
   "metadata": {},
   "outputs": [],
   "source": []
  }
 ],
 "metadata": {
  "kernelspec": {
   "display_name": "Python 3",
   "language": "python",
   "name": "python3"
  },
  "language_info": {
   "codemirror_mode": {
    "name": "ipython",
    "version": 3
   },
   "file_extension": ".py",
   "mimetype": "text/x-python",
   "name": "python",
   "nbconvert_exporter": "python",
   "pygments_lexer": "ipython3",
   "version": "3.6.8"
  }
 },
 "nbformat": 4,
 "nbformat_minor": 2
}
