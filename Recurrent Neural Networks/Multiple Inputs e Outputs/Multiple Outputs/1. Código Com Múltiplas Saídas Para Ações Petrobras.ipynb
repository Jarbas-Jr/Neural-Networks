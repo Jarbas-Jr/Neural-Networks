{
 "cells": [
  {
   "cell_type": "code",
   "execution_count": 1,
   "metadata": {},
   "outputs": [
    {
     "name": "stderr",
     "output_type": "stream",
     "text": [
      "Using TensorFlow backend.\n",
      "/home/jarbasjr/.local/lib/python3.6/site-packages/tensorflow/python/framework/dtypes.py:516: FutureWarning: Passing (type, 1) or '1type' as a synonym of type is deprecated; in a future version of numpy, it will be understood as (type, (1,)) / '(1,)type'.\n",
      "  _np_qint8 = np.dtype([(\"qint8\", np.int8, 1)])\n",
      "/home/jarbasjr/.local/lib/python3.6/site-packages/tensorflow/python/framework/dtypes.py:517: FutureWarning: Passing (type, 1) or '1type' as a synonym of type is deprecated; in a future version of numpy, it will be understood as (type, (1,)) / '(1,)type'.\n",
      "  _np_quint8 = np.dtype([(\"quint8\", np.uint8, 1)])\n",
      "/home/jarbasjr/.local/lib/python3.6/site-packages/tensorflow/python/framework/dtypes.py:518: FutureWarning: Passing (type, 1) or '1type' as a synonym of type is deprecated; in a future version of numpy, it will be understood as (type, (1,)) / '(1,)type'.\n",
      "  _np_qint16 = np.dtype([(\"qint16\", np.int16, 1)])\n",
      "/home/jarbasjr/.local/lib/python3.6/site-packages/tensorflow/python/framework/dtypes.py:519: FutureWarning: Passing (type, 1) or '1type' as a synonym of type is deprecated; in a future version of numpy, it will be understood as (type, (1,)) / '(1,)type'.\n",
      "  _np_quint16 = np.dtype([(\"quint16\", np.uint16, 1)])\n",
      "/home/jarbasjr/.local/lib/python3.6/site-packages/tensorflow/python/framework/dtypes.py:520: FutureWarning: Passing (type, 1) or '1type' as a synonym of type is deprecated; in a future version of numpy, it will be understood as (type, (1,)) / '(1,)type'.\n",
      "  _np_qint32 = np.dtype([(\"qint32\", np.int32, 1)])\n",
      "/home/jarbasjr/.local/lib/python3.6/site-packages/tensorflow/python/framework/dtypes.py:525: FutureWarning: Passing (type, 1) or '1type' as a synonym of type is deprecated; in a future version of numpy, it will be understood as (type, (1,)) / '(1,)type'.\n",
      "  np_resource = np.dtype([(\"resource\", np.ubyte, 1)])\n",
      "/home/jarbasjr/.local/lib/python3.6/site-packages/tensorboard/compat/tensorflow_stub/dtypes.py:541: FutureWarning: Passing (type, 1) or '1type' as a synonym of type is deprecated; in a future version of numpy, it will be understood as (type, (1,)) / '(1,)type'.\n",
      "  _np_qint8 = np.dtype([(\"qint8\", np.int8, 1)])\n",
      "/home/jarbasjr/.local/lib/python3.6/site-packages/tensorboard/compat/tensorflow_stub/dtypes.py:542: FutureWarning: Passing (type, 1) or '1type' as a synonym of type is deprecated; in a future version of numpy, it will be understood as (type, (1,)) / '(1,)type'.\n",
      "  _np_quint8 = np.dtype([(\"quint8\", np.uint8, 1)])\n",
      "/home/jarbasjr/.local/lib/python3.6/site-packages/tensorboard/compat/tensorflow_stub/dtypes.py:543: FutureWarning: Passing (type, 1) or '1type' as a synonym of type is deprecated; in a future version of numpy, it will be understood as (type, (1,)) / '(1,)type'.\n",
      "  _np_qint16 = np.dtype([(\"qint16\", np.int16, 1)])\n",
      "/home/jarbasjr/.local/lib/python3.6/site-packages/tensorboard/compat/tensorflow_stub/dtypes.py:544: FutureWarning: Passing (type, 1) or '1type' as a synonym of type is deprecated; in a future version of numpy, it will be understood as (type, (1,)) / '(1,)type'.\n",
      "  _np_quint16 = np.dtype([(\"quint16\", np.uint16, 1)])\n",
      "/home/jarbasjr/.local/lib/python3.6/site-packages/tensorboard/compat/tensorflow_stub/dtypes.py:545: FutureWarning: Passing (type, 1) or '1type' as a synonym of type is deprecated; in a future version of numpy, it will be understood as (type, (1,)) / '(1,)type'.\n",
      "  _np_qint32 = np.dtype([(\"qint32\", np.int32, 1)])\n",
      "/home/jarbasjr/.local/lib/python3.6/site-packages/tensorboard/compat/tensorflow_stub/dtypes.py:550: FutureWarning: Passing (type, 1) or '1type' as a synonym of type is deprecated; in a future version of numpy, it will be understood as (type, (1,)) / '(1,)type'.\n",
      "  np_resource = np.dtype([(\"resource\", np.ubyte, 1)])\n"
     ]
    }
   ],
   "source": [
    "from keras.models import Sequential\n",
    "from keras.layers import Dense, Dropout, LSTM\n",
    "from sklearn.preprocessing import MinMaxScaler\n",
    "import numpy as np\n",
    "import pandas as pd\n",
    "import matplotlib.pyplot as plt"
   ]
  },
  {
   "cell_type": "code",
   "execution_count": 2,
   "metadata": {},
   "outputs": [],
   "source": [
    "base = pd.read_csv(\"petr4-treinamento.csv\")\n",
    "base = base.dropna()\n",
    "\n",
    "#Agora são duas saídas, coluna 'Open' para predizer 'Open' e 'Close'\n",
    "\n",
    "base = base.dropna()\n",
    "base_treinamento = base.iloc[:, 1:2].values\n",
    "base_valor_maximo = base.iloc[:, 2:3].values"
   ]
  },
  {
   "cell_type": "code",
   "execution_count": 3,
   "metadata": {},
   "outputs": [],
   "source": [
    "normalizador = MinMaxScaler(feature_range=(0,1))\n",
    "base_treinamento_normalizada = normalizador.fit_transform(base_treinamento)\n",
    "base_valor_maximo_normalizada = normalizador.fit_transform(base_valor_maximo)"
   ]
  },
  {
   "cell_type": "code",
   "execution_count": 4,
   "metadata": {},
   "outputs": [],
   "source": [
    "previsores = []\n",
    "preco_real1 = []\n",
    "preco_real2 = []\n",
    "\n",
    "for i in range(90, 1242):\n",
    "    previsores.append(base_treinamento_normalizada[i-90:i, 0])\n",
    "    preco_real1.append(base_treinamento_normalizada[i, 0])\n",
    "    preco_real2.append(base_valor_maximo_normalizada[i, 0])\n",
    "    \n",
    "previsores, preco_real1, preco_real2 = np.array(previsores), np.array(preco_real1), np.array(preco_real2)"
   ]
  },
  {
   "cell_type": "code",
   "execution_count": 5,
   "metadata": {},
   "outputs": [
    {
     "data": {
      "text/plain": [
       "(1152, 90)"
      ]
     },
     "execution_count": 5,
     "metadata": {},
     "output_type": "execute_result"
    }
   ],
   "source": [
    "previsores.shape"
   ]
  },
  {
   "cell_type": "code",
   "execution_count": 6,
   "metadata": {},
   "outputs": [
    {
     "data": {
      "text/plain": [
       "(1152, 90, 1)"
      ]
     },
     "execution_count": 6,
     "metadata": {},
     "output_type": "execute_result"
    }
   ],
   "source": [
    "# Colocando no formato input_gate(batch size, timesteps, input_dim)\n",
    "previsores = np.reshape(previsores, (previsores.shape[0], previsores.shape[1], 1))\n",
    "previsores.shape"
   ]
  },
  {
   "cell_type": "code",
   "execution_count": 7,
   "metadata": {},
   "outputs": [
    {
     "data": {
      "text/plain": [
       "array([[0.76114341, 0.76490543],\n",
       "       [0.76114341, 0.7746001 ],\n",
       "       [0.77470935, 0.78090155],\n",
       "       ...,\n",
       "       [0.57122093, 0.57537562],\n",
       "       [0.57655039, 0.57489089],\n",
       "       [0.57655039, 0.57343674]])"
      ]
     },
     "execution_count": 7,
     "metadata": {},
     "output_type": "execute_result"
    }
   ],
   "source": [
    "# Juntas em uma variavel, as duas que serão preditas\n",
    "preco_real = np.column_stack((preco_real1, preco_real2))\n",
    "preco_real"
   ]
  },
  {
   "cell_type": "code",
   "execution_count": 8,
   "metadata": {
    "scrolled": true
   },
   "outputs": [
    {
     "name": "stderr",
     "output_type": "stream",
     "text": [
      "WARNING: Logging before flag parsing goes to stderr.\n",
      "W0906 11:06:02.112589 139788520843072 deprecation_wrapper.py:119] From /home/jarbasjr/.local/lib/python3.6/site-packages/keras/backend/tensorflow_backend.py:66: The name tf.get_default_graph is deprecated. Please use tf.compat.v1.get_default_graph instead.\n",
      "\n",
      "W0906 11:06:02.136033 139788520843072 deprecation_wrapper.py:119] From /home/jarbasjr/.local/lib/python3.6/site-packages/keras/backend/tensorflow_backend.py:541: The name tf.placeholder is deprecated. Please use tf.compat.v1.placeholder instead.\n",
      "\n",
      "W0906 11:06:02.141235 139788520843072 deprecation_wrapper.py:119] From /home/jarbasjr/.local/lib/python3.6/site-packages/keras/backend/tensorflow_backend.py:4432: The name tf.random_uniform is deprecated. Please use tf.random.uniform instead.\n",
      "\n",
      "W0906 11:06:02.411646 139788520843072 deprecation_wrapper.py:119] From /home/jarbasjr/.local/lib/python3.6/site-packages/keras/backend/tensorflow_backend.py:148: The name tf.placeholder_with_default is deprecated. Please use tf.compat.v1.placeholder_with_default instead.\n",
      "\n",
      "W0906 11:06:02.421828 139788520843072 deprecation.py:506] From /home/jarbasjr/.local/lib/python3.6/site-packages/keras/backend/tensorflow_backend.py:3733: calling dropout (from tensorflow.python.ops.nn_ops) with keep_prob is deprecated and will be removed in a future version.\n",
      "Instructions for updating:\n",
      "Please use `rate` instead of `keep_prob`. Rate should be set to `rate = 1 - keep_prob`.\n"
     ]
    }
   ],
   "source": [
    "regressor = Sequential()\n",
    "\n",
    "# 1 atributo referente ao previsor que é a variavel 'Open'\n",
    "regressor.add(LSTM(units = 100, return_sequences = True, input_shape =(previsores.shape[1], 1) ))\n",
    "regressor.add(Dropout(0.3))\n",
    "\n",
    "regressor.add(LSTM(units = 50, return_sequences = True))\n",
    "regressor.add(Dropout(0.3))\n",
    "\n",
    "regressor.add(LSTM(units = 50, return_sequences = True))\n",
    "regressor.add(Dropout(0.3))\n",
    "\n",
    "\n",
    "regressor.add(LSTM(units = 50))\n",
    "regressor.add(Dropout(0.3))\n",
    "\n",
    "# São duas variaveis a serem preditas e a ativação também poderia ser 'sigmoid'\n",
    "regressor.add(Dense(units = 2, activation = 'linear'))"
   ]
  },
  {
   "cell_type": "code",
   "execution_count": 9,
   "metadata": {},
   "outputs": [
    {
     "name": "stderr",
     "output_type": "stream",
     "text": [
      "W0906 11:06:03.172108 139788520843072 deprecation_wrapper.py:119] From /home/jarbasjr/.local/lib/python3.6/site-packages/keras/optimizers.py:793: The name tf.train.Optimizer is deprecated. Please use tf.compat.v1.train.Optimizer instead.\n",
      "\n"
     ]
    }
   ],
   "source": [
    "regressor.compile(optimizer = 'rmsprop', loss = 'mean_squared_error',\n",
    "                        metrics = ['mean_absolute_error'])"
   ]
  },
  {
   "cell_type": "code",
   "execution_count": 10,
   "metadata": {},
   "outputs": [
    {
     "name": "stderr",
     "output_type": "stream",
     "text": [
      "W0906 11:06:03.450841 139788520843072 deprecation.py:323] From /home/jarbasjr/.local/lib/python3.6/site-packages/tensorflow/python/ops/math_grad.py:1250: add_dispatch_support.<locals>.wrapper (from tensorflow.python.ops.array_ops) is deprecated and will be removed in a future version.\n",
      "Instructions for updating:\n",
      "Use tf.where in 2.0, which has the same broadcast rule as np.where\n",
      "W0906 11:06:05.992391 139788520843072 deprecation_wrapper.py:119] From /home/jarbasjr/.local/lib/python3.6/site-packages/keras/backend/tensorflow_backend.py:1033: The name tf.assign_add is deprecated. Please use tf.compat.v1.assign_add instead.\n",
      "\n"
     ]
    },
    {
     "name": "stdout",
     "output_type": "stream",
     "text": [
      "Epoch 1/100\n",
      "1152/1152 [==============================] - 9s 8ms/step - loss: 0.0396 - mean_absolute_error: 0.1417\n",
      "Epoch 2/100\n",
      "1152/1152 [==============================] - 7s 6ms/step - loss: 0.0184 - mean_absolute_error: 0.1060\n",
      "Epoch 3/100\n",
      "1152/1152 [==============================] - 8s 7ms/step - loss: 0.0154 - mean_absolute_error: 0.0938\n",
      "Epoch 4/100\n",
      "1152/1152 [==============================] - 6s 6ms/step - loss: 0.0131 - mean_absolute_error: 0.0853\n",
      "Epoch 5/100\n",
      "1152/1152 [==============================] - 6s 5ms/step - loss: 0.0114 - mean_absolute_error: 0.0821\n",
      "Epoch 6/100\n",
      "1152/1152 [==============================] - 12s 10ms/step - loss: 0.0118 - mean_absolute_error: 0.0808\n",
      "Epoch 7/100\n",
      "1152/1152 [==============================] - 11s 9ms/step - loss: 0.0086 - mean_absolute_error: 0.0706\n",
      "Epoch 8/100\n",
      "1152/1152 [==============================] - 10s 9ms/step - loss: 0.0090 - mean_absolute_error: 0.0713\n",
      "Epoch 9/100\n",
      "1152/1152 [==============================] - 9s 8ms/step - loss: 0.0083 - mean_absolute_error: 0.0691\n",
      "Epoch 10/100\n",
      "1152/1152 [==============================] - 7s 6ms/step - loss: 0.0081 - mean_absolute_error: 0.0693\n",
      "Epoch 11/100\n",
      "1152/1152 [==============================] - 9s 7ms/step - loss: 0.0076 - mean_absolute_error: 0.0658\n",
      "Epoch 12/100\n",
      "1152/1152 [==============================] - 17s 15ms/step - loss: 0.0072 - mean_absolute_error: 0.0629\n",
      "Epoch 13/100\n",
      "1152/1152 [==============================] - 9s 7ms/step - loss: 0.0064 - mean_absolute_error: 0.0600\n",
      "Epoch 14/100\n",
      "1152/1152 [==============================] - 7s 6ms/step - loss: 0.0065 - mean_absolute_error: 0.0601\n",
      "Epoch 15/100\n",
      "1152/1152 [==============================] - 7s 6ms/step - loss: 0.0054 - mean_absolute_error: 0.0557\n",
      "Epoch 16/100\n",
      "1152/1152 [==============================] - 7s 6ms/step - loss: 0.0058 - mean_absolute_error: 0.0566\n",
      "Epoch 17/100\n",
      "1152/1152 [==============================] - 15s 13ms/step - loss: 0.0048 - mean_absolute_error: 0.0523\n",
      "Epoch 18/100\n",
      "1152/1152 [==============================] - 11s 9ms/step - loss: 0.0049 - mean_absolute_error: 0.0534\n",
      "Epoch 19/100\n",
      "1152/1152 [==============================] - 6s 6ms/step - loss: 0.0049 - mean_absolute_error: 0.0531\n",
      "Epoch 20/100\n",
      "1152/1152 [==============================] - 7s 6ms/step - loss: 0.0046 - mean_absolute_error: 0.0512\n",
      "Epoch 21/100\n",
      "1152/1152 [==============================] - 7s 6ms/step - loss: 0.0044 - mean_absolute_error: 0.0504\n",
      "Epoch 22/100\n",
      "1152/1152 [==============================] - 7s 6ms/step - loss: 0.0042 - mean_absolute_error: 0.0498\n",
      "Epoch 23/100\n",
      "1152/1152 [==============================] - 7s 6ms/step - loss: 0.0041 - mean_absolute_error: 0.0486\n",
      "Epoch 24/100\n",
      "1152/1152 [==============================] - 7s 6ms/step - loss: 0.0039 - mean_absolute_error: 0.0470\n",
      "Epoch 25/100\n",
      "1152/1152 [==============================] - 7s 6ms/step - loss: 0.0038 - mean_absolute_error: 0.0459\n",
      "Epoch 26/100\n",
      "1152/1152 [==============================] - 7s 6ms/step - loss: 0.0035 - mean_absolute_error: 0.0453\n",
      "Epoch 27/100\n",
      "1152/1152 [==============================] - 7s 6ms/step - loss: 0.0035 - mean_absolute_error: 0.0452\n",
      "Epoch 28/100\n",
      "1152/1152 [==============================] - 6s 6ms/step - loss: 0.0031 - mean_absolute_error: 0.0431\n",
      "Epoch 29/100\n",
      "1152/1152 [==============================] - 6s 6ms/step - loss: 0.0034 - mean_absolute_error: 0.0444\n",
      "Epoch 30/100\n",
      "1152/1152 [==============================] - 9s 8ms/step - loss: 0.0030 - mean_absolute_error: 0.0418\n",
      "Epoch 31/100\n",
      "1152/1152 [==============================] - 7s 6ms/step - loss: 0.0034 - mean_absolute_error: 0.0425\n",
      "Epoch 32/100\n",
      "1152/1152 [==============================] - 7s 6ms/step - loss: 0.0032 - mean_absolute_error: 0.0436\n",
      "Epoch 33/100\n",
      "1152/1152 [==============================] - 7s 6ms/step - loss: 0.0032 - mean_absolute_error: 0.0427\n",
      "Epoch 34/100\n",
      "1152/1152 [==============================] - 7s 6ms/step - loss: 0.0026 - mean_absolute_error: 0.0381\n",
      "Epoch 35/100\n",
      "1152/1152 [==============================] - 7s 6ms/step - loss: 0.0029 - mean_absolute_error: 0.0413\n",
      "Epoch 36/100\n",
      "1152/1152 [==============================] - 6s 6ms/step - loss: 0.0026 - mean_absolute_error: 0.0389\n",
      "Epoch 37/100\n",
      "1152/1152 [==============================] - 6s 6ms/step - loss: 0.0029 - mean_absolute_error: 0.0407\n",
      "Epoch 38/100\n",
      "1152/1152 [==============================] - 6s 5ms/step - loss: 0.0026 - mean_absolute_error: 0.0386\n",
      "Epoch 39/100\n",
      "1152/1152 [==============================] - 6s 6ms/step - loss: 0.0026 - mean_absolute_error: 0.0388\n",
      "Epoch 40/100\n",
      "1152/1152 [==============================] - 7s 6ms/step - loss: 0.0025 - mean_absolute_error: 0.0382\n",
      "Epoch 41/100\n",
      "1152/1152 [==============================] - 7s 6ms/step - loss: 0.0026 - mean_absolute_error: 0.0381\n",
      "Epoch 42/100\n",
      "1152/1152 [==============================] - 7s 6ms/step - loss: 0.0024 - mean_absolute_error: 0.0375\n",
      "Epoch 43/100\n",
      "1152/1152 [==============================] - 7s 6ms/step - loss: 0.0025 - mean_absolute_error: 0.0369\n",
      "Epoch 44/100\n",
      "1152/1152 [==============================] - 7s 6ms/step - loss: 0.0024 - mean_absolute_error: 0.0370\n",
      "Epoch 45/100\n",
      "1152/1152 [==============================] - 7s 6ms/step - loss: 0.0022 - mean_absolute_error: 0.0361\n",
      "Epoch 46/100\n",
      "1152/1152 [==============================] - 8s 7ms/step - loss: 0.0025 - mean_absolute_error: 0.0367\n",
      "Epoch 47/100\n",
      "1152/1152 [==============================] - 8s 7ms/step - loss: 0.0020 - mean_absolute_error: 0.0347\n",
      "Epoch 48/100\n",
      "1152/1152 [==============================] - 7s 6ms/step - loss: 0.0022 - mean_absolute_error: 0.0358\n",
      "Epoch 49/100\n",
      "1152/1152 [==============================] - 7s 6ms/step - loss: 0.0023 - mean_absolute_error: 0.0361\n",
      "Epoch 50/100\n",
      "1152/1152 [==============================] - 6s 6ms/step - loss: 0.0022 - mean_absolute_error: 0.0350\n",
      "Epoch 51/100\n",
      "1152/1152 [==============================] - 6s 6ms/step - loss: 0.0023 - mean_absolute_error: 0.0359\n",
      "Epoch 52/100\n",
      "1152/1152 [==============================] - 7s 6ms/step - loss: 0.0021 - mean_absolute_error: 0.0343\n",
      "Epoch 53/100\n",
      "1152/1152 [==============================] - 8s 7ms/step - loss: 0.0020 - mean_absolute_error: 0.0337\n",
      "Epoch 54/100\n",
      "1152/1152 [==============================] - 8s 7ms/step - loss: 0.0022 - mean_absolute_error: 0.0350\n",
      "Epoch 55/100\n",
      "1152/1152 [==============================] - 8s 7ms/step - loss: 0.0020 - mean_absolute_error: 0.0336\n",
      "Epoch 56/100\n",
      "1152/1152 [==============================] - 7s 6ms/step - loss: 0.0019 - mean_absolute_error: 0.0339\n",
      "Epoch 57/100\n",
      "1152/1152 [==============================] - 9s 8ms/step - loss: 0.0021 - mean_absolute_error: 0.0342\n",
      "Epoch 58/100\n",
      "1152/1152 [==============================] - 7s 6ms/step - loss: 0.0019 - mean_absolute_error: 0.0328\n",
      "Epoch 59/100\n",
      "1152/1152 [==============================] - 8s 7ms/step - loss: 0.0020 - mean_absolute_error: 0.0336\n",
      "Epoch 60/100\n",
      "1152/1152 [==============================] - 11s 10ms/step - loss: 0.0020 - mean_absolute_error: 0.0340\n",
      "Epoch 61/100\n",
      "1152/1152 [==============================] - 12s 10ms/step - loss: 0.0018 - mean_absolute_error: 0.0327\n",
      "Epoch 62/100\n",
      "1152/1152 [==============================] - 12s 10ms/step - loss: 0.0018 - mean_absolute_error: 0.0320\n",
      "Epoch 63/100\n",
      "1152/1152 [==============================] - 12s 11ms/step - loss: 0.0019 - mean_absolute_error: 0.0325\n",
      "Epoch 64/100\n",
      "1152/1152 [==============================] - 13s 11ms/step - loss: 0.0019 - mean_absolute_error: 0.0325\n",
      "Epoch 65/100\n",
      "1152/1152 [==============================] - 10s 8ms/step - loss: 0.0018 - mean_absolute_error: 0.0321\n",
      "Epoch 66/100\n",
      "1152/1152 [==============================] - 7s 6ms/step - loss: 0.0019 - mean_absolute_error: 0.0325\n",
      "Epoch 67/100\n",
      "1152/1152 [==============================] - 20s 17ms/step - loss: 0.0017 - mean_absolute_error: 0.0319\n",
      "Epoch 68/100\n",
      "1152/1152 [==============================] - 14s 12ms/step - loss: 0.0019 - mean_absolute_error: 0.0327\n",
      "Epoch 69/100\n",
      "1152/1152 [==============================] - 14s 12ms/step - loss: 0.0018 - mean_absolute_error: 0.0317\n",
      "Epoch 70/100\n",
      "1152/1152 [==============================] - 14s 12ms/step - loss: 0.0016 - mean_absolute_error: 0.0305\n",
      "Epoch 71/100\n",
      "1152/1152 [==============================] - 10s 9ms/step - loss: 0.0018 - mean_absolute_error: 0.0320\n",
      "Epoch 72/100\n"
     ]
    },
    {
     "name": "stdout",
     "output_type": "stream",
     "text": [
      "1152/1152 [==============================] - 11s 9ms/step - loss: 0.0018 - mean_absolute_error: 0.0322\n",
      "Epoch 73/100\n",
      "1152/1152 [==============================] - 6s 5ms/step - loss: 0.0017 - mean_absolute_error: 0.0308\n",
      "Epoch 74/100\n",
      "1152/1152 [==============================] - 6s 5ms/step - loss: 0.0018 - mean_absolute_error: 0.0314\n",
      "Epoch 75/100\n",
      "1152/1152 [==============================] - 7s 6ms/step - loss: 0.0018 - mean_absolute_error: 0.0313\n",
      "Epoch 76/100\n",
      "1152/1152 [==============================] - 9s 8ms/step - loss: 0.0018 - mean_absolute_error: 0.0316\n",
      "Epoch 77/100\n",
      "1152/1152 [==============================] - 10s 8ms/step - loss: 0.0017 - mean_absolute_error: 0.0305\n",
      "Epoch 78/100\n",
      "1152/1152 [==============================] - 9s 7ms/step - loss: 0.0018 - mean_absolute_error: 0.0316\n",
      "Epoch 79/100\n",
      "1152/1152 [==============================] - 9s 8ms/step - loss: 0.0015 - mean_absolute_error: 0.0297\n",
      "Epoch 80/100\n",
      "1152/1152 [==============================] - 9s 8ms/step - loss: 0.0018 - mean_absolute_error: 0.0316\n",
      "Epoch 81/100\n",
      "1152/1152 [==============================] - 7s 6ms/step - loss: 0.0017 - mean_absolute_error: 0.0306\n",
      "Epoch 82/100\n",
      "1152/1152 [==============================] - 13s 11ms/step - loss: 0.0016 - mean_absolute_error: 0.0297\n",
      "Epoch 83/100\n",
      "1152/1152 [==============================] - 9s 8ms/step - loss: 0.0016 - mean_absolute_error: 0.0294\n",
      "Epoch 84/100\n",
      "1152/1152 [==============================] - 7s 6ms/step - loss: 0.0018 - mean_absolute_error: 0.0312\n",
      "Epoch 85/100\n",
      "1152/1152 [==============================] - 14s 12ms/step - loss: 0.0016 - mean_absolute_error: 0.0296\n",
      "Epoch 86/100\n",
      "1152/1152 [==============================] - 16s 14ms/step - loss: 0.0016 - mean_absolute_error: 0.0294\n",
      "Epoch 87/100\n",
      "1152/1152 [==============================] - 7s 6ms/step - loss: 0.0016 - mean_absolute_error: 0.0303\n",
      "Epoch 88/100\n",
      "1152/1152 [==============================] - 7s 6ms/step - loss: 0.0016 - mean_absolute_error: 0.0297\n",
      "Epoch 89/100\n",
      "1152/1152 [==============================] - 12s 10ms/step - loss: 0.0016 - mean_absolute_error: 0.0300\n",
      "Epoch 90/100\n",
      "1152/1152 [==============================] - 16s 14ms/step - loss: 0.0015 - mean_absolute_error: 0.0288\n",
      "Epoch 91/100\n",
      "1152/1152 [==============================] - 16s 14ms/step - loss: 0.0017 - mean_absolute_error: 0.0307\n",
      "Epoch 92/100\n",
      "1152/1152 [==============================] - 14s 12ms/step - loss: 0.0016 - mean_absolute_error: 0.0297\n",
      "Epoch 93/100\n",
      "1152/1152 [==============================] - 18s 15ms/step - loss: 0.0016 - mean_absolute_error: 0.0293\n",
      "Epoch 94/100\n",
      "1152/1152 [==============================] - 15s 13ms/step - loss: 0.0016 - mean_absolute_error: 0.0292\n",
      "Epoch 95/100\n",
      "1152/1152 [==============================] - 29s 25ms/step - loss: 0.0016 - mean_absolute_error: 0.0301\n",
      "Epoch 96/100\n",
      "1152/1152 [==============================] - 16s 14ms/step - loss: 0.0014 - mean_absolute_error: 0.0279\n",
      "Epoch 97/100\n",
      "1152/1152 [==============================] - 10s 9ms/step - loss: 0.0014 - mean_absolute_error: 0.0276\n",
      "Epoch 98/100\n",
      "1152/1152 [==============================] - 14s 12ms/step - loss: 0.0017 - mean_absolute_error: 0.0302\n",
      "Epoch 99/100\n",
      "1152/1152 [==============================] - 13s 11ms/step - loss: 0.0016 - mean_absolute_error: 0.0298\n",
      "Epoch 100/100\n",
      "1152/1152 [==============================] - 14s 12ms/step - loss: 0.0015 - mean_absolute_error: 0.0289\n"
     ]
    },
    {
     "data": {
      "text/plain": [
       "<keras.callbacks.History at 0x7f22b3c92c50>"
      ]
     },
     "execution_count": 10,
     "metadata": {},
     "output_type": "execute_result"
    }
   ],
   "source": [
    "regressor.fit(previsores, preco_real, epochs = 100, batch_size = 32)"
   ]
  },
  {
   "cell_type": "code",
   "execution_count": 11,
   "metadata": {},
   "outputs": [],
   "source": [
    "base_teste = pd.read_csv('petr4-teste.csv')\n",
    "\n",
    "preco_real_open = base_teste.iloc[:, 1:2].values\n",
    "preco_real_high = base_teste.iloc[:, 2:3].values"
   ]
  },
  {
   "cell_type": "code",
   "execution_count": 12,
   "metadata": {},
   "outputs": [],
   "source": [
    "base_completa = pd.concat((base['Open'], base_teste['Open']), axis = 0)\n",
    "entradas = base_completa[len(base_completa) - len(base_teste) - 90:].values\n",
    "entradas = entradas.reshape(-1,1)\n",
    "entradas = normalizador.transform(entradas)"
   ]
  },
  {
   "cell_type": "code",
   "execution_count": 13,
   "metadata": {},
   "outputs": [],
   "source": [
    "X_test = []\n",
    "\n",
    "for i in range(90,112):\n",
    "    X_test.append(entradas[i-90:i, 0])\n",
    "    \n",
    "\n",
    "X_test = np.array(X_test)\n",
    "X_test = np.reshape(X_test, (X_test.shape[0], X_test.shape[1], 1))"
   ]
  },
  {
   "cell_type": "code",
   "execution_count": 14,
   "metadata": {},
   "outputs": [],
   "source": [
    "previsoes = regressor.predict(X_test)\n",
    "previsoes = normalizador.inverse_transform(previsoes)"
   ]
  },
  {
   "cell_type": "code",
   "execution_count": 15,
   "metadata": {},
   "outputs": [
    {
     "data": {
      "image/png": "[encoded data removed]",
      "text/plain": [
       "<Figure size 432x288 with 1 Axes>"
      ]
     },
     "metadata": {
      "needs_background": "light"
     },
     "output_type": "display_data"
    }
   ],
   "source": [
    "plt.plot(preco_real_open, color = 'red', label = 'Preço abertura real')\n",
    "plt.plot(preco_real_high, color = 'black', label = 'Preço alta real')\n",
    "\n",
    "plt.plot(previsoes[:, 0], color = 'blue', label = 'Previsões abertura')\n",
    "plt.plot(previsoes[:, 1], color = 'orange', label = 'Previsões alta')\n",
    "\n",
    "plt.title('Previsão preço das ações')\n",
    "plt.xlabel('Tempo')\n",
    "plt.ylabel('Valor Yahoo')\n",
    "plt.legend()\n",
    "plt.show()"
   ]
  }
 ],
 "metadata": {
  "kernelspec": {
   "display_name": "Python 3",
   "language": "python",
   "name": "python3"
  },
  "language_info": {
   "codemirror_mode": {
    "name": "ipython",
    "version": 3
   },
   "file_extension": ".py",
   "mimetype": "text/x-python",
   "name": "python",
   "nbconvert_exporter": "python",
   "pygments_lexer": "ipython3",
   "version": "3.6.8"
  }
 },
 "nbformat": 4,
 "nbformat_minor": 2
}
