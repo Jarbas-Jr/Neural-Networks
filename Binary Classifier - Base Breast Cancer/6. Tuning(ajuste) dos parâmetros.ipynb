{
 "cells": [
  {
   "cell_type": "code",
   "execution_count": 2,
   "metadata": {},
   "outputs": [],
   "source": [
    "import pandas as pd \n",
    "import keras \n",
    "from keras.models import Sequential \n",
    "from keras.layers import Dense, Dropout\n",
    "from keras.wrappers.scikit_learn import KerasClassifier\n",
    "import keras.optimizers\n",
    "from sklearn.model_selection import GridSearchCV"
   ]
  },
  {
   "cell_type": "code",
   "execution_count": 3,
   "metadata": {},
   "outputs": [],
   "source": [
    "previsores = pd.read_csv('entradas-breast.csv')\n",
    "classe = pd.read_csv('saidas-breast.csv')"
   ]
  },
  {
   "cell_type": "markdown",
   "metadata": {},
   "source": [
    "# Trocar parametros fixos pelos parametros que devem ser informado na entrada na função, na tentantiva de fazer uma grade de pesquisa de todas as possibilidade dos parâmetros para encontrar a combinação que retorne o melhor resultado.\n",
    "\n",
    "## Observe que a camada de saída nao muda, pois ele seguirá sendo um retorno binario, e uma unica resposta, como se trata de uma classificação a função de ativação segue sendo uma sigmoide."
   ]
  },
  {
   "cell_type": "code",
   "execution_count": 3,
   "metadata": {},
   "outputs": [],
   "source": [
    "def criarRede(optimizer, loos, kernel_initializer, activation, neurons):\n",
    "    classificador = Sequential()\n",
    "    classificador.add(Dense(units = neurons, activation = activation,\n",
    "                           kernel_initializer = kernel_initializer, input_dim = 30))\n",
    "    classificador.add(Dropout(0.2))\n",
    "    classificador.add(Dense(units = neurons, activation = activation,\n",
    "                           kernel_initializer = kernel_initializer))\n",
    "    classificador.add(Dropout(0.2))\n",
    "    classificador.add(Dense(units = 1, activation = 'sigmoid'))\n",
    "    classificador.compile(optimizer = optimizer, loss = loos,\n",
    "                         metrics = ['binary_accuracy'])\n",
    "    return classificador "
   ]
  },
  {
   "cell_type": "markdown",
   "metadata": {},
   "source": [
    "# Aqui colocamos varias possibilidade de parâmetros para que a pesquisa seja feita, não somente os parametros da função 'criarRede' mas também as referemtes 'batch_size' e 'epochs' referente ao calculo dos pesos da rede neural.\n",
    "\n",
    "# Observe que um bom ponto médio para começarmos a testar o numero de neuronios é aquela formula falada anteriormente, onde soma-se as features mais a saida, no caso eram 30 features(camada de entrada) + 1 saida(resposta binaria, cancer é beningno ou maligno), dando 15.5 mas arredondamos para 16, logo podemos especular valores de neuronios da camada oculta em torno desse valor."
   ]
  },
  {
   "cell_type": "code",
   "execution_count": 4,
   "metadata": {},
   "outputs": [],
   "source": [
    "classificador = KerasClassifier(build_fn = criarRede)\n",
    "\n",
    "parametros = {'batch_size': [10,30],\n",
    "              'epochs': [50,100],\n",
    "              'optimizer': ['adam', 'sgd'],\n",
    "              'loos': ['binary_crossentropy', 'hinge'],\n",
    "              'kernel_initializer': ['random_uniform', 'normal'],\n",
    "              'activation': ['relu', 'tanh'],\n",
    "              'neurons': [16,8]}"
   ]
  },
  {
   "cell_type": "markdown",
   "metadata": {},
   "source": [
    "# Aqui colocamos tudo no Grid Search CV"
   ]
  },
  {
   "cell_type": "code",
   "execution_count": null,
   "metadata": {},
   "outputs": [],
   "source": [
    "grid_search = GridSearchCV(estimator = classificador,\n",
    "                          param_grid = parametros,\n",
    "                          scoring = 'accuracy',\n",
    "                          cv = 5)\n",
    "\n",
    "grid_search = grid_search.fit(previsores, classe)"
   ]
  },
  {
   "cell_type": "markdown",
   "metadata": {},
   "source": [
    "# Observamos os melhores parametros, e se um parâmetro númerico atingiu o maior valor dos que foram colocados para serem testados, vale a pena refazer o teste com valores maiores, pois pode estar sendo indicado que irá achar o melhor resultado em valores maiores. Mesma lógica se for o menor valor. Entaõ deve-se observar os melhores parametros para readequar, se necessario, os valores a serem testados e refazer o teste."
   ]
  },
  {
   "cell_type": "code",
   "execution_count": null,
   "metadata": {},
   "outputs": [],
   "source": [
    "melhores_parametros = grid_search.best_params_"
   ]
  },
  {
   "cell_type": "code",
   "execution_count": null,
   "metadata": {},
   "outputs": [],
   "source": [
    "melhor_precisao = grid_search.best_score_"
   ]
  }
 ],
 "metadata": {
  "kernelspec": {
   "display_name": "Python 3",
   "language": "python",
   "name": "python3"
  },
  "language_info": {
   "codemirror_mode": {
    "name": "ipython",
    "version": 3
   },
   "file_extension": ".py",
   "mimetype": "text/x-python",
   "name": "python",
   "nbconvert_exporter": "python",
   "pygments_lexer": "ipython3",
   "version": "3.6.8"
  }
 },
 "nbformat": 4,
 "nbformat_minor": 2
}
