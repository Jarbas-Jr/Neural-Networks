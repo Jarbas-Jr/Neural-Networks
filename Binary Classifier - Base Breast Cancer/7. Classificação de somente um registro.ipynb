{
 "cells": [
  {
   "cell_type": "code",
   "execution_count": 9,
   "metadata": {},
   "outputs": [],
   "source": [
    "import pandas as pd \n",
    "import numpy as np\n",
    "from keras.models import Sequential\n",
    "from keras.layers import Dense, Dropout\n",
    "import keras.optimizers"
   ]
  },
  {
   "cell_type": "code",
   "execution_count": 10,
   "metadata": {},
   "outputs": [],
   "source": [
    "previsores = pd.read_csv('entradas-breast.csv')\n",
    "classe = pd.read_csv('saidas-breast.csv')"
   ]
  },
  {
   "cell_type": "markdown",
   "metadata": {},
   "source": [
    "# Após avaliar a melhor configuração do que deu certo, codificar a rede neural finalizada, e imputar valores de entrada para avaliar retorno, e assim fazer uma inferência, como se fosse aplicado no mundo real e um médio informasse os parâmetros para ter um retorno do tipo de cancer com base no modelo elaborado nos códigos anteriores."
   ]
  },
  {
   "cell_type": "code",
   "execution_count": 11,
   "metadata": {},
   "outputs": [],
   "source": [
    "classificador = Sequential()\n",
    "classificador.add(Dense(units = 8, activation = 'relu',\n",
    "                         kernel_initializer = 'normal', input_dim = 30))\n",
    "classificador.add(Dropout(0.2))\n",
    "classificador.add(Dense(units = 8, activation = 'relu',\n",
    "                         kernel_initializer = 'normal'))\n",
    "classificador.add(Dropout(0.2))\n",
    "classificador.add(Dense(units = 1, activation = 'sigmoid'))\n",
    "classificador.compile(optimizer = 'adam', loss = 'binary_crossentropy',\n",
    "                    metrics = ['binary_accuracy'])"
   ]
  },
  {
   "cell_type": "code",
   "execution_count": 12,
   "metadata": {},
   "outputs": [
    {
     "name": "stdout",
     "output_type": "stream",
     "text": [
      "Epoch 1/100\n",
      "569/569 [==============================] - 1s 956us/step - loss: 4.3405 - binary_accuracy: 0.5641\n",
      "Epoch 2/100\n",
      "569/569 [==============================] - 0s 146us/step - loss: 1.3139 - binary_accuracy: 0.6011\n",
      "Epoch 3/100\n",
      "569/569 [==============================] - 0s 148us/step - loss: 0.7551 - binary_accuracy: 0.6380\n",
      "Epoch 4/100\n",
      "569/569 [==============================] - 0s 172us/step - loss: 0.6948 - binary_accuracy: 0.6678\n",
      "Epoch 5/100\n",
      "569/569 [==============================] - 0s 147us/step - loss: 0.6735 - binary_accuracy: 0.6432\n",
      "Epoch 6/100\n",
      "569/569 [==============================] - 0s 167us/step - loss: 0.6104 - binary_accuracy: 0.6221\n",
      "Epoch 7/100\n",
      "569/569 [==============================] - 0s 173us/step - loss: 0.6124 - binary_accuracy: 0.6555\n",
      "Epoch 8/100\n",
      "569/569 [==============================] - 0s 175us/step - loss: 0.5639 - binary_accuracy: 0.6837\n",
      "Epoch 9/100\n",
      "569/569 [==============================] - 0s 157us/step - loss: 0.5460 - binary_accuracy: 0.6977\n",
      "Epoch 10/100\n",
      "569/569 [==============================] - 0s 142us/step - loss: 0.5387 - binary_accuracy: 0.7118\n",
      "Epoch 11/100\n",
      "569/569 [==============================] - 0s 145us/step - loss: 0.5140 - binary_accuracy: 0.7329\n",
      "Epoch 12/100\n",
      "569/569 [==============================] - 0s 139us/step - loss: 0.5374 - binary_accuracy: 0.7293\n",
      "Epoch 13/100\n",
      "569/569 [==============================] - 0s 160us/step - loss: 0.4960 - binary_accuracy: 0.7680\n",
      "Epoch 14/100\n",
      "569/569 [==============================] - 0s 127us/step - loss: 0.4668 - binary_accuracy: 0.7557\n",
      "Epoch 15/100\n",
      "569/569 [==============================] - 0s 158us/step - loss: 0.4883 - binary_accuracy: 0.7434\n",
      "Epoch 16/100\n",
      "569/569 [==============================] - 0s 176us/step - loss: 0.4410 - binary_accuracy: 0.7838\n",
      "Epoch 17/100\n",
      "569/569 [==============================] - 0s 135us/step - loss: 0.4385 - binary_accuracy: 0.7944\n",
      "Epoch 18/100\n",
      "569/569 [==============================] - 0s 162us/step - loss: 0.4428 - binary_accuracy: 0.7838\n",
      "Epoch 19/100\n",
      "569/569 [==============================] - 0s 155us/step - loss: 0.4231 - binary_accuracy: 0.7575\n",
      "Epoch 20/100\n",
      "569/569 [==============================] - 0s 145us/step - loss: 0.4462 - binary_accuracy: 0.7627\n",
      "Epoch 21/100\n",
      "569/569 [==============================] - 0s 141us/step - loss: 0.3944 - binary_accuracy: 0.7961\n",
      "Epoch 22/100\n",
      "569/569 [==============================] - 0s 171us/step - loss: 0.3926 - binary_accuracy: 0.8084\n",
      "Epoch 23/100\n",
      "569/569 [==============================] - 0s 259us/step - loss: 0.3857 - binary_accuracy: 0.7768\n",
      "Epoch 24/100\n",
      "569/569 [==============================] - 0s 183us/step - loss: 0.3970 - binary_accuracy: 0.7786\n",
      "Epoch 25/100\n",
      "569/569 [==============================] - 0s 172us/step - loss: 0.3761 - binary_accuracy: 0.7856\n",
      "Epoch 26/100\n",
      "569/569 [==============================] - 0s 142us/step - loss: 0.3728 - binary_accuracy: 0.7944\n",
      "Epoch 27/100\n",
      "569/569 [==============================] - 0s 184us/step - loss: 0.3713 - binary_accuracy: 0.7944\n",
      "Epoch 28/100\n",
      "569/569 [==============================] - 0s 150us/step - loss: 0.3749 - binary_accuracy: 0.8190\n",
      "Epoch 29/100\n",
      "569/569 [==============================] - 0s 130us/step - loss: 0.3894 - binary_accuracy: 0.8049\n",
      "Epoch 30/100\n",
      "569/569 [==============================] - 0s 179us/step - loss: 0.3838 - binary_accuracy: 0.7961\n",
      "Epoch 31/100\n",
      "569/569 [==============================] - 0s 199us/step - loss: 0.3769 - binary_accuracy: 0.7680\n",
      "Epoch 32/100\n",
      "569/569 [==============================] - 0s 170us/step - loss: 0.3482 - binary_accuracy: 0.7944\n",
      "Epoch 33/100\n",
      "569/569 [==============================] - 0s 167us/step - loss: 0.3660 - binary_accuracy: 0.8067\n",
      "Epoch 34/100\n",
      "569/569 [==============================] - 0s 148us/step - loss: 0.3563 - binary_accuracy: 0.8260\n",
      "Epoch 35/100\n",
      "569/569 [==============================] - 0s 165us/step - loss: 0.3197 - binary_accuracy: 0.8278\n",
      "Epoch 36/100\n",
      "569/569 [==============================] - 0s 224us/step - loss: 0.3753 - binary_accuracy: 0.7979\n",
      "Epoch 37/100\n",
      "569/569 [==============================] - 0s 295us/step - loss: 0.2983 - binary_accuracy: 0.8401\n",
      "Epoch 38/100\n",
      "569/569 [==============================] - 0s 234us/step - loss: 0.3594 - binary_accuracy: 0.8049\n",
      "Epoch 39/100\n",
      "569/569 [==============================] - 0s 276us/step - loss: 0.3543 - binary_accuracy: 0.8032\n",
      "Epoch 40/100\n",
      "569/569 [==============================] - 0s 189us/step - loss: 0.3293 - binary_accuracy: 0.8225\n",
      "Epoch 41/100\n",
      "569/569 [==============================] - 0s 209us/step - loss: 0.3400 - binary_accuracy: 0.8102\n",
      "Epoch 42/100\n",
      "569/569 [==============================] - 0s 189us/step - loss: 0.3577 - binary_accuracy: 0.8225\n",
      "Epoch 43/100\n",
      "569/569 [==============================] - 0s 151us/step - loss: 0.3398 - binary_accuracy: 0.8295\n",
      "Epoch 44/100\n",
      "569/569 [==============================] - 0s 168us/step - loss: 0.3416 - binary_accuracy: 0.8260\n",
      "Epoch 45/100\n",
      "569/569 [==============================] - 0s 152us/step - loss: 0.3381 - binary_accuracy: 0.8137\n",
      "Epoch 46/100\n",
      "569/569 [==============================] - 0s 192us/step - loss: 0.3297 - binary_accuracy: 0.8260\n",
      "Epoch 47/100\n",
      "569/569 [==============================] - 0s 212us/step - loss: 0.3069 - binary_accuracy: 0.8383\n",
      "Epoch 48/100\n",
      "569/569 [==============================] - 0s 154us/step - loss: 0.2964 - binary_accuracy: 0.8348\n",
      "Epoch 49/100\n",
      "569/569 [==============================] - 0s 253us/step - loss: 0.2925 - binary_accuracy: 0.8366\n",
      "Epoch 50/100\n",
      "569/569 [==============================] - 0s 220us/step - loss: 0.2902 - binary_accuracy: 0.8489\n",
      "Epoch 51/100\n",
      "569/569 [==============================] - 0s 193us/step - loss: 0.2848 - binary_accuracy: 0.8418\n",
      "Epoch 52/100\n",
      "569/569 [==============================] - 0s 212us/step - loss: 0.2816 - binary_accuracy: 0.8559\n",
      "Epoch 53/100\n",
      "569/569 [==============================] - 0s 138us/step - loss: 0.3071 - binary_accuracy: 0.8401\n",
      "Epoch 54/100\n",
      "569/569 [==============================] - 0s 164us/step - loss: 0.3013 - binary_accuracy: 0.8506\n",
      "Epoch 55/100\n",
      "569/569 [==============================] - 0s 142us/step - loss: 0.2870 - binary_accuracy: 0.8278\n",
      "Epoch 56/100\n",
      "569/569 [==============================] - 0s 144us/step - loss: 0.2889 - binary_accuracy: 0.8366\n",
      "Epoch 57/100\n",
      "569/569 [==============================] - 0s 142us/step - loss: 0.2972 - binary_accuracy: 0.8330\n",
      "Epoch 58/100\n",
      "569/569 [==============================] - 0s 156us/step - loss: 0.3011 - binary_accuracy: 0.8190\n",
      "Epoch 59/100\n",
      "569/569 [==============================] - 0s 174us/step - loss: 0.3155 - binary_accuracy: 0.8330\n",
      "Epoch 60/100\n",
      "569/569 [==============================] - 0s 183us/step - loss: 0.2691 - binary_accuracy: 0.8664\n",
      "Epoch 61/100\n",
      "569/569 [==============================] - 0s 145us/step - loss: 0.3274 - binary_accuracy: 0.8190\n",
      "Epoch 62/100\n",
      "569/569 [==============================] - 0s 179us/step - loss: 0.2900 - binary_accuracy: 0.8330\n",
      "Epoch 63/100\n",
      "569/569 [==============================] - 0s 147us/step - loss: 0.2944 - binary_accuracy: 0.8295\n",
      "Epoch 64/100\n",
      "569/569 [==============================] - 0s 185us/step - loss: 0.2729 - binary_accuracy: 0.8524\n",
      "Epoch 65/100\n",
      "569/569 [==============================] - 0s 148us/step - loss: 0.2550 - binary_accuracy: 0.8576\n",
      "Epoch 66/100\n",
      "569/569 [==============================] - 0s 164us/step - loss: 0.2981 - binary_accuracy: 0.8383\n",
      "Epoch 67/100\n",
      "569/569 [==============================] - 0s 185us/step - loss: 0.3273 - binary_accuracy: 0.8366\n",
      "Epoch 68/100\n",
      "569/569 [==============================] - 0s 175us/step - loss: 0.2883 - binary_accuracy: 0.8401\n",
      "Epoch 69/100\n",
      "569/569 [==============================] - 0s 168us/step - loss: 0.2631 - binary_accuracy: 0.8612\n",
      "Epoch 70/100\n",
      "569/569 [==============================] - 0s 155us/step - loss: 0.2820 - binary_accuracy: 0.8436\n",
      "Epoch 71/100\n",
      "569/569 [==============================] - 0s 196us/step - loss: 0.2943 - binary_accuracy: 0.8383\n",
      "Epoch 72/100\n",
      "569/569 [==============================] - 0s 163us/step - loss: 0.2679 - binary_accuracy: 0.8664\n",
      "Epoch 73/100\n",
      "569/569 [==============================] - 0s 158us/step - loss: 0.2724 - binary_accuracy: 0.8453\n",
      "Epoch 74/100\n",
      "569/569 [==============================] - 0s 148us/step - loss: 0.2716 - binary_accuracy: 0.8541\n",
      "Epoch 75/100\n",
      "569/569 [==============================] - 0s 144us/step - loss: 0.2834 - binary_accuracy: 0.8383\n",
      "Epoch 76/100\n",
      "569/569 [==============================] - 0s 117us/step - loss: 0.2854 - binary_accuracy: 0.8453\n",
      "Epoch 77/100\n",
      "569/569 [==============================] - 0s 115us/step - loss: 0.3118 - binary_accuracy: 0.8137\n",
      "Epoch 78/100\n",
      "569/569 [==============================] - 0s 123us/step - loss: 0.2817 - binary_accuracy: 0.8436\n",
      "Epoch 79/100\n",
      "569/569 [==============================] - 0s 150us/step - loss: 0.2516 - binary_accuracy: 0.8664\n",
      "Epoch 80/100\n",
      "569/569 [==============================] - 0s 140us/step - loss: 0.2463 - binary_accuracy: 0.8594\n",
      "Epoch 81/100\n",
      "569/569 [==============================] - 0s 130us/step - loss: 0.2581 - binary_accuracy: 0.8524\n",
      "Epoch 82/100\n",
      "569/569 [==============================] - 0s 146us/step - loss: 0.2579 - binary_accuracy: 0.8576\n",
      "Epoch 83/100\n",
      "569/569 [==============================] - 0s 285us/step - loss: 0.2869 - binary_accuracy: 0.8401\n",
      "Epoch 84/100\n",
      "569/569 [==============================] - 0s 227us/step - loss: 0.2725 - binary_accuracy: 0.8840\n",
      "Epoch 85/100\n",
      "569/569 [==============================] - 0s 110us/step - loss: 0.2296 - binary_accuracy: 0.9192\n",
      "Epoch 86/100\n",
      "569/569 [==============================] - 0s 143us/step - loss: 0.2640 - binary_accuracy: 0.9086\n",
      "Epoch 87/100\n",
      "569/569 [==============================] - 0s 137us/step - loss: 0.2697 - binary_accuracy: 0.8928\n",
      "Epoch 88/100\n",
      "569/569 [==============================] - 0s 151us/step - loss: 0.2475 - binary_accuracy: 0.9051\n",
      "Epoch 89/100\n",
      "569/569 [==============================] - 0s 149us/step - loss: 0.2441 - binary_accuracy: 0.9121\n",
      "Epoch 90/100\n",
      "569/569 [==============================] - 0s 146us/step - loss: 0.2647 - binary_accuracy: 0.9033\n",
      "Epoch 91/100\n",
      "569/569 [==============================] - 0s 165us/step - loss: 0.2668 - binary_accuracy: 0.8963\n",
      "Epoch 92/100\n",
      "569/569 [==============================] - 0s 138us/step - loss: 0.2919 - binary_accuracy: 0.8735\n",
      "Epoch 93/100\n",
      "569/569 [==============================] - 0s 164us/step - loss: 0.2492 - binary_accuracy: 0.9104\n",
      "Epoch 94/100\n",
      "569/569 [==============================] - 0s 154us/step - loss: 0.2704 - binary_accuracy: 0.8822\n",
      "Epoch 95/100\n",
      "569/569 [==============================] - 0s 133us/step - loss: 0.2609 - binary_accuracy: 0.8946\n",
      "Epoch 96/100\n",
      "569/569 [==============================] - 0s 156us/step - loss: 0.2852 - binary_accuracy: 0.8893\n",
      "Epoch 97/100\n",
      "569/569 [==============================] - 0s 165us/step - loss: 0.2676 - binary_accuracy: 0.9016\n",
      "Epoch 98/100\n",
      "569/569 [==============================] - 0s 136us/step - loss: 0.2683 - binary_accuracy: 0.9104\n",
      "Epoch 99/100\n",
      "569/569 [==============================] - 0s 157us/step - loss: 0.2454 - binary_accuracy: 0.9086\n",
      "Epoch 100/100\n",
      "569/569 [==============================] - 0s 133us/step - loss: 0.2287 - binary_accuracy: 0.9244\n"
     ]
    },
    {
     "data": {
      "text/plain": [
       "<keras.callbacks.History at 0x7f9d2974e898>"
      ]
     },
     "execution_count": 12,
     "metadata": {},
     "output_type": "execute_result"
    }
   ],
   "source": [
    "classificador.fit(previsores, classe, batch_size = 10, epochs = 100)"
   ]
  },
  {
   "cell_type": "code",
   "execution_count": 13,
   "metadata": {},
   "outputs": [],
   "source": [
    "novo = np.array([[15.80, 8.34, 118, 900, 0.10, 0.26, 0.08, 0.134, 0.178, 0.20, 0.05, 1098, 0.87, 4500, 145.2,\n",
    "                 0.005, 0.04, 0.05, 0.015, 0.03, 0.007, 23.15, 16.64, 178.5, 2018, 0.14, 0.185, 0.84, 158, 0.363 ]])"
   ]
  },
  {
   "cell_type": "code",
   "execution_count": 24,
   "metadata": {},
   "outputs": [
    {
     "data": {
      "text/plain": [
       "array([[1.]], dtype=float32)"
      ]
     },
     "execution_count": 24,
     "metadata": {},
     "output_type": "execute_result"
    }
   ],
   "source": [
    "previsao = classificador.predict(novo)\n",
    "previsao"
   ]
  },
  {
   "cell_type": "code",
   "execution_count": 29,
   "metadata": {},
   "outputs": [
    {
     "data": {
      "text/plain": [
       "array([[ True]])"
      ]
     },
     "execution_count": 29,
     "metadata": {},
     "output_type": "execute_result"
    }
   ],
   "source": [
    "previsao_bin = (previsao > 0.5)\n",
    "previsao_bin"
   ]
  }
 ],
 "metadata": {
  "kernelspec": {
   "display_name": "Python 3",
   "language": "python",
   "name": "python3"
  },
  "language_info": {
   "codemirror_mode": {
    "name": "ipython",
    "version": 3
   },
   "file_extension": ".py",
   "mimetype": "text/x-python",
   "name": "python",
   "nbconvert_exporter": "python",
   "pygments_lexer": "ipython3",
   "version": "3.6.8"
  }
 },
 "nbformat": 4,
 "nbformat_minor": 2
}
